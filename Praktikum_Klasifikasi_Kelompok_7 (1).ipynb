{
  "cells": [
    {
      "cell_type": "markdown",
      "source": [
        "# **<font color=\"A0D8E9\"> Tugas Project Data Mining </font>**\n",
        "**Anggota Kelompok 7 :**\n",
        "1. Fauzan Adzhima Alamsyah (1906376804)\n",
        "2. Rachelle Melody d'Lyra Soentara (2206051456)\n",
        "3. Luthfi Athallah Herdita Wiryaman (2206826980)\n",
        "4. Zavier Raiyan Dana (2206829875)"
      ],
      "metadata": {
        "id": "BjTYfjOnPLUP"
      }
    },
    {
      "cell_type": "markdown",
      "source": [
        "#<font color=\"90C796\">**Data Preparation**</font>\n",
        "\n",
        "- loading modules\n",
        "- importing data"
      ],
      "metadata": {
        "id": "9rV8-tkBclS9"
      }
    },
    {
      "cell_type": "code",
      "execution_count": null,
      "metadata": {
        "colab": {
          "base_uri": "https://localhost:8080/"
        },
        "id": "8RBF-VVg7l9t",
        "outputId": "73fc652c-e417-4ac0-f74b-752d8d274612"
      },
      "outputs": [
        {
          "output_type": "stream",
          "name": "stdout",
          "text": [
            "Detecting environment:  Running the code in Google Colab. Installing and downloading dependencies.\n",
            "Please wait...\n",
            "Requirement already satisfied: pandas in /usr/local/lib/python3.10/dist-packages (2.2.2)\n",
            "Collecting pandas\n",
            "  Downloading pandas-2.2.3-cp310-cp310-manylinux_2_17_x86_64.manylinux2014_x86_64.whl.metadata (89 kB)\n",
            "\u001b[2K     \u001b[90m━━━━━━━━━━━━━━━━━━━━━━━━━━━━━━━━━━━━━━━━\u001b[0m \u001b[32m89.9/89.9 kB\u001b[0m \u001b[31m2.1 MB/s\u001b[0m eta \u001b[36m0:00:00\u001b[0m\n",
            "\u001b[?25hRequirement already satisfied: numpy>=1.22.4 in /usr/local/lib/python3.10/dist-packages (from pandas) (1.26.4)\n",
            "Requirement already satisfied: python-dateutil>=2.8.2 in /usr/local/lib/python3.10/dist-packages (from pandas) (2.8.2)\n",
            "Requirement already satisfied: pytz>=2020.1 in /usr/local/lib/python3.10/dist-packages (from pandas) (2024.2)\n",
            "Requirement already satisfied: tzdata>=2022.7 in /usr/local/lib/python3.10/dist-packages (from pandas) (2024.2)\n",
            "Requirement already satisfied: six>=1.5 in /usr/local/lib/python3.10/dist-packages (from python-dateutil>=2.8.2->pandas) (1.16.0)\n",
            "Downloading pandas-2.2.3-cp310-cp310-manylinux_2_17_x86_64.manylinux2014_x86_64.whl (13.1 MB)\n",
            "\u001b[2K   \u001b[90m━━━━━━━━━━━━━━━━━━━━━━━━━━━━━━━━━━━━━━━━\u001b[0m \u001b[32m13.1/13.1 MB\u001b[0m \u001b[31m22.4 MB/s\u001b[0m eta \u001b[36m0:00:00\u001b[0m\n",
            "\u001b[?25hInstalling collected packages: pandas\n",
            "  Attempting uninstall: pandas\n",
            "    Found existing installation: pandas 2.2.2\n",
            "    Uninstalling pandas-2.2.2:\n",
            "      Successfully uninstalled pandas-2.2.2\n",
            "\u001b[31mERROR: pip's dependency resolver does not currently take into account all the packages that are installed. This behaviour is the source of the following dependency conflicts.\n",
            "cudf-cu12 24.10.1 requires pandas<2.2.3dev0,>=2.0, but you have pandas 2.2.3 which is incompatible.\n",
            "google-colab 1.0.0 requires pandas==2.2.2, but you have pandas 2.2.3 which is incompatible.\u001b[0m\u001b[31m\n",
            "\u001b[0mSuccessfully installed pandas-2.2.3\n"
          ]
        }
      ],
      "source": [
        "print(\"Detecting environment: \", end=' ')\n",
        "try:\n",
        "    import google.colab\n",
        "    IN_COLAB = True\n",
        "    print(\"Running the code in Google Colab. Installing and downloading dependencies.\\nPlease wait...\")\n",
        "    !pip install --upgrade pandas\n",
        "except:\n",
        "    IN_COLAB = False\n",
        "    print(\"Running the code locally.\")"
      ]
    },
    {
      "cell_type": "code",
      "execution_count": null,
      "metadata": {
        "colab": {
          "base_uri": "https://localhost:8080/",
          "height": 53
        },
        "id": "18vyMbfT7l9v",
        "outputId": "f00432bf-28c2-4159-cc79-d146a89ece0b"
      },
      "outputs": [
        {
          "output_type": "stream",
          "name": "stdout",
          "text": [
            "2.2.3\n"
          ]
        },
        {
          "output_type": "execute_result",
          "data": {
            "text/plain": [
              "'Done'"
            ],
            "application/vnd.google.colaboratory.intrinsic+json": {
              "type": "string"
            }
          },
          "metadata": {},
          "execution_count": 2
        }
      ],
      "source": [
        "# Loading Modules\n",
        "import warnings; warnings.simplefilter('ignore')\n",
        "import pickle, time, numpy as np, seaborn as sns\n",
        "import pandas as pd, matplotlib.pyplot as plt\n",
        "from sklearn import svm, preprocessing\n",
        "from sklearn import  tree, neighbors\n",
        "from sklearn.naive_bayes import GaussianNB\n",
        "from sklearn.ensemble import RandomForestClassifier, AdaBoostClassifier\n",
        "from sklearn.linear_model import LogisticRegression\n",
        "from sklearn.svm import SVC\n",
        "from sklearn.model_selection import train_test_split\n",
        "from sklearn.metrics import confusion_matrix, classification_report\n",
        "from sklearn.metrics import precision_score, recall_score, f1_score, accuracy_score\n",
        "from sklearn.model_selection import cross_val_score, RandomizedSearchCV, GridSearchCV\n",
        "from sklearn.pipeline import make_pipeline\n",
        "from sklearn.ensemble import VotingClassifier\n",
        "from sklearn import model_selection\n",
        "from collections import Counter\n",
        "from tqdm import tqdm\n",
        "sns.set(style=\"ticks\", color_codes=True)\n",
        "print(pd.__version__)\n",
        "\"Done\""
      ]
    },
    {
      "cell_type": "code",
      "execution_count": null,
      "metadata": {
        "colab": {
          "base_uri": "https://localhost:8080/"
        },
        "id": "mUgLlToo7l9w",
        "outputId": "e59eeccc-ad94-4de9-aa61-f91a3a9cd152"
      },
      "outputs": [
        {
          "output_type": "stream",
          "name": "stdout",
          "text": [
            "Collecting ucimlrepo\n",
            "  Downloading ucimlrepo-0.0.7-py3-none-any.whl.metadata (5.5 kB)\n",
            "Requirement already satisfied: pandas>=1.0.0 in /usr/local/lib/python3.10/dist-packages (from ucimlrepo) (2.2.3)\n",
            "Requirement already satisfied: certifi>=2020.12.5 in /usr/local/lib/python3.10/dist-packages (from ucimlrepo) (2024.8.30)\n",
            "Requirement already satisfied: numpy>=1.22.4 in /usr/local/lib/python3.10/dist-packages (from pandas>=1.0.0->ucimlrepo) (1.26.4)\n",
            "Requirement already satisfied: python-dateutil>=2.8.2 in /usr/local/lib/python3.10/dist-packages (from pandas>=1.0.0->ucimlrepo) (2.8.2)\n",
            "Requirement already satisfied: pytz>=2020.1 in /usr/local/lib/python3.10/dist-packages (from pandas>=1.0.0->ucimlrepo) (2024.2)\n",
            "Requirement already satisfied: tzdata>=2022.7 in /usr/local/lib/python3.10/dist-packages (from pandas>=1.0.0->ucimlrepo) (2024.2)\n",
            "Requirement already satisfied: six>=1.5 in /usr/local/lib/python3.10/dist-packages (from python-dateutil>=2.8.2->pandas>=1.0.0->ucimlrepo) (1.16.0)\n",
            "Downloading ucimlrepo-0.0.7-py3-none-any.whl (8.0 kB)\n",
            "Installing collected packages: ucimlrepo\n",
            "Successfully installed ucimlrepo-0.0.7\n"
          ]
        }
      ],
      "source": [
        "pip install ucimlrepo"
      ]
    },
    {
      "cell_type": "code",
      "source": [
        "from ucimlrepo import fetch_ucirepo\n",
        "\n",
        "# fetch dataset\n",
        "predict_students_dropout_and_academic_success = fetch_ucirepo(id=697)\n",
        "\n",
        "# data (as pandas dataframes)\n",
        "X = predict_students_dropout_and_academic_success.data.features\n",
        "y = predict_students_dropout_and_academic_success.data.targets\n",
        "\n",
        "# metadata\n",
        "print(predict_students_dropout_and_academic_success.metadata)\n",
        "\n",
        "# variable information\n",
        "print(predict_students_dropout_and_academic_success.variables)"
      ],
      "metadata": {
        "colab": {
          "base_uri": "https://localhost:8080/"
        },
        "id": "3178jkdq97-E",
        "outputId": "19e4d2b1-dcc6-4b0f-c72b-b396f8930248"
      },
      "execution_count": null,
      "outputs": [
        {
          "output_type": "stream",
          "name": "stdout",
          "text": [
            "{'uci_id': 697, 'name': \"Predict Students' Dropout and Academic Success\", 'repository_url': 'https://archive.ics.uci.edu/dataset/697/predict+students+dropout+and+academic+success', 'data_url': 'https://archive.ics.uci.edu/static/public/697/data.csv', 'abstract': \"A dataset created from a higher education institution (acquired from several disjoint databases) related to students enrolled in different undergraduate degrees, such as agronomy, design, education, nursing, journalism, management, social service, and technologies.\\nThe dataset includes information known at the time of student enrollment (academic path, demographics, and social-economic factors) and the students' academic performance at the end of the first and second semesters. \\nThe data is used to build classification models to predict students' dropout and academic sucess. The problem is formulated as a three category classification task, in which there is a strong imbalance towards one of the classes.\", 'area': 'Social Science', 'tasks': ['Classification'], 'characteristics': ['Tabular'], 'num_instances': 4424, 'num_features': 36, 'feature_types': ['Real', 'Categorical', 'Integer'], 'demographics': ['Marital Status', 'Education Level', 'Nationality', 'Occupation', 'Gender', 'Age'], 'target_col': ['Target'], 'index_col': None, 'has_missing_values': 'no', 'missing_values_symbol': None, 'year_of_dataset_creation': 2021, 'last_updated': 'Mon Feb 26 2024', 'dataset_doi': '10.24432/C5MC89', 'creators': ['Valentim Realinho', 'Mónica Vieira Martins', 'Jorge Machado', 'Luís Baptista'], 'intro_paper': {'ID': 99, 'type': 'NATIVE', 'title': \"Early prediction of student's performance in higher education: a case study\", 'authors': 'Mónica V. Martins, Daniel Tolledo, Jorge Machado, Luís M. T. Baptista, and Valentim Realinho', 'venue': 'Trends and Applications in Information Systems and Technologies', 'year': 2021, 'journal': 'Advances in Intelligent Systems and Computing series', 'DOI': 'http://www.doi.org/10.1007/978-3-030-72657-7_16', 'URL': 'http://www.worldcist.org/2021/', 'sha': None, 'corpus': None, 'arxiv': None, 'mag': None, 'acl': None, 'pmid': None, 'pmcid': None}, 'additional_info': {'summary': None, 'purpose': 'The dataset was created in a project that aims to contribute to the reduction of academic dropout and failure in higher education, by using machine learning techniques to identify students at risk at an early stage of their academic path, so that strategies to support them can be put into place. \\n\\nThe dataset includes information known at the time of student enrollment – academic path, demographics, and social-economic factors. \\n\\nThe problem is formulated as a three category classification task (dropout, enrolled, and graduate) at the end of the normal duration of the course. \\n', 'funded_by': 'This dataset is supported by program SATDAP - Capacitação da Administração Pública under grant POCI-05-5762-FSE-000191, Portugal.', 'instances_represent': 'Each instance is a student', 'recommended_data_splits': 'The dataset was used, in our project, with a data split of 80% for training and 20% for test.', 'sensitive_data': None, 'preprocessing_description': 'We performed a rigorous data preprocessing to handle data from anomalies, unexplainable outliers, and missing values.', 'variable_info': None, 'citation': 'If you use this dataset in experiments for a scientific publication, please kindly cite our paper: \\nM.V.Martins, D. Tolledo, J. Machado, L. M.T. Baptista, V.Realinho. (2021) \"Early prediction of student’s performance in higher education: a case study\" Trends and Applications in Information Systems and Technologies, vol.1, in Advances in Intelligent Systems and Computing series. Springer. DOI: 10.1007/978-3-030-72657-7_16'}}\n",
            "                                              name     role         type  \\\n",
            "0                                   Marital Status  Feature      Integer   \n",
            "1                                 Application mode  Feature      Integer   \n",
            "2                                Application order  Feature      Integer   \n",
            "3                                           Course  Feature      Integer   \n",
            "4                       Daytime/evening attendance  Feature      Integer   \n",
            "5                           Previous qualification  Feature      Integer   \n",
            "6                   Previous qualification (grade)  Feature   Continuous   \n",
            "7                                      Nacionality  Feature      Integer   \n",
            "8                           Mother's qualification  Feature      Integer   \n",
            "9                           Father's qualification  Feature      Integer   \n",
            "10                             Mother's occupation  Feature      Integer   \n",
            "11                             Father's occupation  Feature      Integer   \n",
            "12                                 Admission grade  Feature   Continuous   \n",
            "13                                       Displaced  Feature      Integer   \n",
            "14                       Educational special needs  Feature      Integer   \n",
            "15                                          Debtor  Feature      Integer   \n",
            "16                         Tuition fees up to date  Feature      Integer   \n",
            "17                                          Gender  Feature      Integer   \n",
            "18                              Scholarship holder  Feature      Integer   \n",
            "19                               Age at enrollment  Feature      Integer   \n",
            "20                                   International  Feature      Integer   \n",
            "21             Curricular units 1st sem (credited)  Feature      Integer   \n",
            "22             Curricular units 1st sem (enrolled)  Feature      Integer   \n",
            "23          Curricular units 1st sem (evaluations)  Feature      Integer   \n",
            "24             Curricular units 1st sem (approved)  Feature      Integer   \n",
            "25                Curricular units 1st sem (grade)  Feature      Integer   \n",
            "26  Curricular units 1st sem (without evaluations)  Feature      Integer   \n",
            "27             Curricular units 2nd sem (credited)  Feature      Integer   \n",
            "28             Curricular units 2nd sem (enrolled)  Feature      Integer   \n",
            "29          Curricular units 2nd sem (evaluations)  Feature      Integer   \n",
            "30             Curricular units 2nd sem (approved)  Feature      Integer   \n",
            "31                Curricular units 2nd sem (grade)  Feature      Integer   \n",
            "32  Curricular units 2nd sem (without evaluations)  Feature      Integer   \n",
            "33                               Unemployment rate  Feature   Continuous   \n",
            "34                                  Inflation rate  Feature   Continuous   \n",
            "35                                             GDP  Feature   Continuous   \n",
            "36                                          Target   Target  Categorical   \n",
            "\n",
            "        demographic                                        description units  \\\n",
            "0    Marital Status  1 – single 2 – married 3 – widower 4 – divorce...  None   \n",
            "1              None  1 - 1st phase - general contingent 2 - Ordinan...  None   \n",
            "2              None  Application order (between 0 - first choice; a...  None   \n",
            "3              None  33 - Biofuel Production Technologies 171 - Ani...  None   \n",
            "4              None                            1 – daytime 0 - evening  None   \n",
            "5   Education Level  1 - Secondary education 2 - Higher education -...  None   \n",
            "6              None  Grade of previous qualification (between 0 and...  None   \n",
            "7       Nationality  1 - Portuguese; 2 - German; 6 - Spanish; 11 - ...  None   \n",
            "8   Education Level  1 - Secondary Education - 12th Year of Schooli...  None   \n",
            "9   Education Level  1 - Secondary Education - 12th Year of Schooli...  None   \n",
            "10       Occupation  0 - Student 1 - Representatives of the Legisla...  None   \n",
            "11       Occupation  0 - Student 1 - Representatives of the Legisla...  None   \n",
            "12             None                Admission grade (between 0 and 200)  None   \n",
            "13             None                                     1 – yes 0 – no  None   \n",
            "14             None                                     1 – yes 0 – no  None   \n",
            "15             None                                     1 – yes 0 – no  None   \n",
            "16             None                                     1 – yes 0 – no  None   \n",
            "17           Gender                                1 – male 0 – female  None   \n",
            "18             None                                     1 – yes 0 – no  None   \n",
            "19              Age                       Age of studend at enrollment  None   \n",
            "20             None                                     1 – yes 0 – no  None   \n",
            "21             None  Number of curricular units credited in the 1st...  None   \n",
            "22             None  Number of curricular units enrolled in the 1st...  None   \n",
            "23             None  Number of evaluations to curricular units in t...  None   \n",
            "24             None  Number of curricular units approved in the 1st...  None   \n",
            "25             None  Grade average in the 1st semester (between 0 a...  None   \n",
            "26             None  Number of curricular units without evalutions ...  None   \n",
            "27             None  Number of curricular units credited in the 2nd...  None   \n",
            "28             None  Number of curricular units enrolled in the 2nd...  None   \n",
            "29             None  Number of evaluations to curricular units in t...  None   \n",
            "30             None  Number of curricular units approved in the 2nd...  None   \n",
            "31             None  Grade average in the 2nd semester (between 0 a...  None   \n",
            "32             None  Number of curricular units without evalutions ...  None   \n",
            "33             None                              Unemployment rate (%)  None   \n",
            "34             None                                 Inflation rate (%)  None   \n",
            "35             None                                                GDP  None   \n",
            "36             None  Target. The problem is formulated as a three c...  None   \n",
            "\n",
            "   missing_values  \n",
            "0              no  \n",
            "1              no  \n",
            "2              no  \n",
            "3              no  \n",
            "4              no  \n",
            "5              no  \n",
            "6              no  \n",
            "7              no  \n",
            "8              no  \n",
            "9              no  \n",
            "10             no  \n",
            "11             no  \n",
            "12             no  \n",
            "13             no  \n",
            "14             no  \n",
            "15             no  \n",
            "16             no  \n",
            "17             no  \n",
            "18             no  \n",
            "19             no  \n",
            "20             no  \n",
            "21             no  \n",
            "22             no  \n",
            "23             no  \n",
            "24             no  \n",
            "25             no  \n",
            "26             no  \n",
            "27             no  \n",
            "28             no  \n",
            "29             no  \n",
            "30             no  \n",
            "31             no  \n",
            "32             no  \n",
            "33             no  \n",
            "34             no  \n",
            "35             no  \n",
            "36             no  \n"
          ]
        }
      ]
    },
    {
      "cell_type": "markdown",
      "source": [
        "#<font color=\"90C796\">**Eksplorasi Data**</font>\n",
        "\n",
        "- melihat X dan y\n",
        "- encoding y ('Target')\n",
        "- melakukan split train-test"
      ],
      "metadata": {
        "id": "jU-KSZaKdaBb"
      }
    },
    {
      "cell_type": "code",
      "source": [
        "# Convert X and y to DataFrames\n",
        "X = pd.DataFrame(X)\n",
        "y = pd.DataFrame(y)"
      ],
      "metadata": {
        "id": "1NimovPp-O8S"
      },
      "execution_count": null,
      "outputs": []
    },
    {
      "cell_type": "code",
      "source": [
        "X.head()"
      ],
      "metadata": {
        "colab": {
          "base_uri": "https://localhost:8080/",
          "height": 308
        },
        "id": "bK_49OzAd2CC",
        "outputId": "6e8bd4da-6c6c-4058-d582-b56ba07c4a18"
      },
      "execution_count": null,
      "outputs": [
        {
          "output_type": "execute_result",
          "data": {
            "text/plain": [
              "   Marital Status  Application mode  Application order  Course  \\\n",
              "0               1                17                  5     171   \n",
              "1               1                15                  1    9254   \n",
              "2               1                 1                  5    9070   \n",
              "3               1                17                  2    9773   \n",
              "4               2                39                  1    8014   \n",
              "\n",
              "   Daytime/evening attendance  Previous qualification  \\\n",
              "0                           1                       1   \n",
              "1                           1                       1   \n",
              "2                           1                       1   \n",
              "3                           1                       1   \n",
              "4                           0                       1   \n",
              "\n",
              "   Previous qualification (grade)  Nacionality  Mother's qualification  \\\n",
              "0                           122.0            1                      19   \n",
              "1                           160.0            1                       1   \n",
              "2                           122.0            1                      37   \n",
              "3                           122.0            1                      38   \n",
              "4                           100.0            1                      37   \n",
              "\n",
              "   Father's qualification  ...  \\\n",
              "0                      12  ...   \n",
              "1                       3  ...   \n",
              "2                      37  ...   \n",
              "3                      37  ...   \n",
              "4                      38  ...   \n",
              "\n",
              "   Curricular units 1st sem (without evaluations)  \\\n",
              "0                                               0   \n",
              "1                                               0   \n",
              "2                                               0   \n",
              "3                                               0   \n",
              "4                                               0   \n",
              "\n",
              "   Curricular units 2nd sem (credited)  Curricular units 2nd sem (enrolled)  \\\n",
              "0                                    0                                    0   \n",
              "1                                    0                                    6   \n",
              "2                                    0                                    6   \n",
              "3                                    0                                    6   \n",
              "4                                    0                                    6   \n",
              "\n",
              "   Curricular units 2nd sem (evaluations)  \\\n",
              "0                                       0   \n",
              "1                                       6   \n",
              "2                                       0   \n",
              "3                                      10   \n",
              "4                                       6   \n",
              "\n",
              "   Curricular units 2nd sem (approved)  Curricular units 2nd sem (grade)  \\\n",
              "0                                    0                          0.000000   \n",
              "1                                    6                         13.666667   \n",
              "2                                    0                          0.000000   \n",
              "3                                    5                         12.400000   \n",
              "4                                    6                         13.000000   \n",
              "\n",
              "   Curricular units 2nd sem (without evaluations)  Unemployment rate  \\\n",
              "0                                               0               10.8   \n",
              "1                                               0               13.9   \n",
              "2                                               0               10.8   \n",
              "3                                               0                9.4   \n",
              "4                                               0               13.9   \n",
              "\n",
              "   Inflation rate   GDP  \n",
              "0             1.4  1.74  \n",
              "1            -0.3  0.79  \n",
              "2             1.4  1.74  \n",
              "3            -0.8 -3.12  \n",
              "4            -0.3  0.79  \n",
              "\n",
              "[5 rows x 36 columns]"
            ],
            "text/html": [
              "\n",
              "  <div id=\"df-acc5ff82-fb1f-4b10-bdc6-b0227df9852f\" class=\"colab-df-container\">\n",
              "    <div>\n",
              "<style scoped>\n",
              "    .dataframe tbody tr th:only-of-type {\n",
              "        vertical-align: middle;\n",
              "    }\n",
              "\n",
              "    .dataframe tbody tr th {\n",
              "        vertical-align: top;\n",
              "    }\n",
              "\n",
              "    .dataframe thead th {\n",
              "        text-align: right;\n",
              "    }\n",
              "</style>\n",
              "<table border=\"1\" class=\"dataframe\">\n",
              "  <thead>\n",
              "    <tr style=\"text-align: right;\">\n",
              "      <th></th>\n",
              "      <th>Marital Status</th>\n",
              "      <th>Application mode</th>\n",
              "      <th>Application order</th>\n",
              "      <th>Course</th>\n",
              "      <th>Daytime/evening attendance</th>\n",
              "      <th>Previous qualification</th>\n",
              "      <th>Previous qualification (grade)</th>\n",
              "      <th>Nacionality</th>\n",
              "      <th>Mother's qualification</th>\n",
              "      <th>Father's qualification</th>\n",
              "      <th>...</th>\n",
              "      <th>Curricular units 1st sem (without evaluations)</th>\n",
              "      <th>Curricular units 2nd sem (credited)</th>\n",
              "      <th>Curricular units 2nd sem (enrolled)</th>\n",
              "      <th>Curricular units 2nd sem (evaluations)</th>\n",
              "      <th>Curricular units 2nd sem (approved)</th>\n",
              "      <th>Curricular units 2nd sem (grade)</th>\n",
              "      <th>Curricular units 2nd sem (without evaluations)</th>\n",
              "      <th>Unemployment rate</th>\n",
              "      <th>Inflation rate</th>\n",
              "      <th>GDP</th>\n",
              "    </tr>\n",
              "  </thead>\n",
              "  <tbody>\n",
              "    <tr>\n",
              "      <th>0</th>\n",
              "      <td>1</td>\n",
              "      <td>17</td>\n",
              "      <td>5</td>\n",
              "      <td>171</td>\n",
              "      <td>1</td>\n",
              "      <td>1</td>\n",
              "      <td>122.0</td>\n",
              "      <td>1</td>\n",
              "      <td>19</td>\n",
              "      <td>12</td>\n",
              "      <td>...</td>\n",
              "      <td>0</td>\n",
              "      <td>0</td>\n",
              "      <td>0</td>\n",
              "      <td>0</td>\n",
              "      <td>0</td>\n",
              "      <td>0.000000</td>\n",
              "      <td>0</td>\n",
              "      <td>10.8</td>\n",
              "      <td>1.4</td>\n",
              "      <td>1.74</td>\n",
              "    </tr>\n",
              "    <tr>\n",
              "      <th>1</th>\n",
              "      <td>1</td>\n",
              "      <td>15</td>\n",
              "      <td>1</td>\n",
              "      <td>9254</td>\n",
              "      <td>1</td>\n",
              "      <td>1</td>\n",
              "      <td>160.0</td>\n",
              "      <td>1</td>\n",
              "      <td>1</td>\n",
              "      <td>3</td>\n",
              "      <td>...</td>\n",
              "      <td>0</td>\n",
              "      <td>0</td>\n",
              "      <td>6</td>\n",
              "      <td>6</td>\n",
              "      <td>6</td>\n",
              "      <td>13.666667</td>\n",
              "      <td>0</td>\n",
              "      <td>13.9</td>\n",
              "      <td>-0.3</td>\n",
              "      <td>0.79</td>\n",
              "    </tr>\n",
              "    <tr>\n",
              "      <th>2</th>\n",
              "      <td>1</td>\n",
              "      <td>1</td>\n",
              "      <td>5</td>\n",
              "      <td>9070</td>\n",
              "      <td>1</td>\n",
              "      <td>1</td>\n",
              "      <td>122.0</td>\n",
              "      <td>1</td>\n",
              "      <td>37</td>\n",
              "      <td>37</td>\n",
              "      <td>...</td>\n",
              "      <td>0</td>\n",
              "      <td>0</td>\n",
              "      <td>6</td>\n",
              "      <td>0</td>\n",
              "      <td>0</td>\n",
              "      <td>0.000000</td>\n",
              "      <td>0</td>\n",
              "      <td>10.8</td>\n",
              "      <td>1.4</td>\n",
              "      <td>1.74</td>\n",
              "    </tr>\n",
              "    <tr>\n",
              "      <th>3</th>\n",
              "      <td>1</td>\n",
              "      <td>17</td>\n",
              "      <td>2</td>\n",
              "      <td>9773</td>\n",
              "      <td>1</td>\n",
              "      <td>1</td>\n",
              "      <td>122.0</td>\n",
              "      <td>1</td>\n",
              "      <td>38</td>\n",
              "      <td>37</td>\n",
              "      <td>...</td>\n",
              "      <td>0</td>\n",
              "      <td>0</td>\n",
              "      <td>6</td>\n",
              "      <td>10</td>\n",
              "      <td>5</td>\n",
              "      <td>12.400000</td>\n",
              "      <td>0</td>\n",
              "      <td>9.4</td>\n",
              "      <td>-0.8</td>\n",
              "      <td>-3.12</td>\n",
              "    </tr>\n",
              "    <tr>\n",
              "      <th>4</th>\n",
              "      <td>2</td>\n",
              "      <td>39</td>\n",
              "      <td>1</td>\n",
              "      <td>8014</td>\n",
              "      <td>0</td>\n",
              "      <td>1</td>\n",
              "      <td>100.0</td>\n",
              "      <td>1</td>\n",
              "      <td>37</td>\n",
              "      <td>38</td>\n",
              "      <td>...</td>\n",
              "      <td>0</td>\n",
              "      <td>0</td>\n",
              "      <td>6</td>\n",
              "      <td>6</td>\n",
              "      <td>6</td>\n",
              "      <td>13.000000</td>\n",
              "      <td>0</td>\n",
              "      <td>13.9</td>\n",
              "      <td>-0.3</td>\n",
              "      <td>0.79</td>\n",
              "    </tr>\n",
              "  </tbody>\n",
              "</table>\n",
              "<p>5 rows × 36 columns</p>\n",
              "</div>\n",
              "    <div class=\"colab-df-buttons\">\n",
              "\n",
              "  <div class=\"colab-df-container\">\n",
              "    <button class=\"colab-df-convert\" onclick=\"convertToInteractive('df-acc5ff82-fb1f-4b10-bdc6-b0227df9852f')\"\n",
              "            title=\"Convert this dataframe to an interactive table.\"\n",
              "            style=\"display:none;\">\n",
              "\n",
              "  <svg xmlns=\"http://www.w3.org/2000/svg\" height=\"24px\" viewBox=\"0 -960 960 960\">\n",
              "    <path d=\"M120-120v-720h720v720H120Zm60-500h600v-160H180v160Zm220 220h160v-160H400v160Zm0 220h160v-160H400v160ZM180-400h160v-160H180v160Zm440 0h160v-160H620v160ZM180-180h160v-160H180v160Zm440 0h160v-160H620v160Z\"/>\n",
              "  </svg>\n",
              "    </button>\n",
              "\n",
              "  <style>\n",
              "    .colab-df-container {\n",
              "      display:flex;\n",
              "      gap: 12px;\n",
              "    }\n",
              "\n",
              "    .colab-df-convert {\n",
              "      background-color: #E8F0FE;\n",
              "      border: none;\n",
              "      border-radius: 50%;\n",
              "      cursor: pointer;\n",
              "      display: none;\n",
              "      fill: #1967D2;\n",
              "      height: 32px;\n",
              "      padding: 0 0 0 0;\n",
              "      width: 32px;\n",
              "    }\n",
              "\n",
              "    .colab-df-convert:hover {\n",
              "      background-color: #E2EBFA;\n",
              "      box-shadow: 0px 1px 2px rgba(60, 64, 67, 0.3), 0px 1px 3px 1px rgba(60, 64, 67, 0.15);\n",
              "      fill: #174EA6;\n",
              "    }\n",
              "\n",
              "    .colab-df-buttons div {\n",
              "      margin-bottom: 4px;\n",
              "    }\n",
              "\n",
              "    [theme=dark] .colab-df-convert {\n",
              "      background-color: #3B4455;\n",
              "      fill: #D2E3FC;\n",
              "    }\n",
              "\n",
              "    [theme=dark] .colab-df-convert:hover {\n",
              "      background-color: #434B5C;\n",
              "      box-shadow: 0px 1px 3px 1px rgba(0, 0, 0, 0.15);\n",
              "      filter: drop-shadow(0px 1px 2px rgba(0, 0, 0, 0.3));\n",
              "      fill: #FFFFFF;\n",
              "    }\n",
              "  </style>\n",
              "\n",
              "    <script>\n",
              "      const buttonEl =\n",
              "        document.querySelector('#df-acc5ff82-fb1f-4b10-bdc6-b0227df9852f button.colab-df-convert');\n",
              "      buttonEl.style.display =\n",
              "        google.colab.kernel.accessAllowed ? 'block' : 'none';\n",
              "\n",
              "      async function convertToInteractive(key) {\n",
              "        const element = document.querySelector('#df-acc5ff82-fb1f-4b10-bdc6-b0227df9852f');\n",
              "        const dataTable =\n",
              "          await google.colab.kernel.invokeFunction('convertToInteractive',\n",
              "                                                    [key], {});\n",
              "        if (!dataTable) return;\n",
              "\n",
              "        const docLinkHtml = 'Like what you see? Visit the ' +\n",
              "          '<a target=\"_blank\" href=https://colab.research.google.com/notebooks/data_table.ipynb>data table notebook</a>'\n",
              "          + ' to learn more about interactive tables.';\n",
              "        element.innerHTML = '';\n",
              "        dataTable['output_type'] = 'display_data';\n",
              "        await google.colab.output.renderOutput(dataTable, element);\n",
              "        const docLink = document.createElement('div');\n",
              "        docLink.innerHTML = docLinkHtml;\n",
              "        element.appendChild(docLink);\n",
              "      }\n",
              "    </script>\n",
              "  </div>\n",
              "\n",
              "\n",
              "<div id=\"df-4ef18362-d23d-41ca-accd-aac1aa7c8000\">\n",
              "  <button class=\"colab-df-quickchart\" onclick=\"quickchart('df-4ef18362-d23d-41ca-accd-aac1aa7c8000')\"\n",
              "            title=\"Suggest charts\"\n",
              "            style=\"display:none;\">\n",
              "\n",
              "<svg xmlns=\"http://www.w3.org/2000/svg\" height=\"24px\"viewBox=\"0 0 24 24\"\n",
              "     width=\"24px\">\n",
              "    <g>\n",
              "        <path d=\"M19 3H5c-1.1 0-2 .9-2 2v14c0 1.1.9 2 2 2h14c1.1 0 2-.9 2-2V5c0-1.1-.9-2-2-2zM9 17H7v-7h2v7zm4 0h-2V7h2v10zm4 0h-2v-4h2v4z\"/>\n",
              "    </g>\n",
              "</svg>\n",
              "  </button>\n",
              "\n",
              "<style>\n",
              "  .colab-df-quickchart {\n",
              "      --bg-color: #E8F0FE;\n",
              "      --fill-color: #1967D2;\n",
              "      --hover-bg-color: #E2EBFA;\n",
              "      --hover-fill-color: #174EA6;\n",
              "      --disabled-fill-color: #AAA;\n",
              "      --disabled-bg-color: #DDD;\n",
              "  }\n",
              "\n",
              "  [theme=dark] .colab-df-quickchart {\n",
              "      --bg-color: #3B4455;\n",
              "      --fill-color: #D2E3FC;\n",
              "      --hover-bg-color: #434B5C;\n",
              "      --hover-fill-color: #FFFFFF;\n",
              "      --disabled-bg-color: #3B4455;\n",
              "      --disabled-fill-color: #666;\n",
              "  }\n",
              "\n",
              "  .colab-df-quickchart {\n",
              "    background-color: var(--bg-color);\n",
              "    border: none;\n",
              "    border-radius: 50%;\n",
              "    cursor: pointer;\n",
              "    display: none;\n",
              "    fill: var(--fill-color);\n",
              "    height: 32px;\n",
              "    padding: 0;\n",
              "    width: 32px;\n",
              "  }\n",
              "\n",
              "  .colab-df-quickchart:hover {\n",
              "    background-color: var(--hover-bg-color);\n",
              "    box-shadow: 0 1px 2px rgba(60, 64, 67, 0.3), 0 1px 3px 1px rgba(60, 64, 67, 0.15);\n",
              "    fill: var(--button-hover-fill-color);\n",
              "  }\n",
              "\n",
              "  .colab-df-quickchart-complete:disabled,\n",
              "  .colab-df-quickchart-complete:disabled:hover {\n",
              "    background-color: var(--disabled-bg-color);\n",
              "    fill: var(--disabled-fill-color);\n",
              "    box-shadow: none;\n",
              "  }\n",
              "\n",
              "  .colab-df-spinner {\n",
              "    border: 2px solid var(--fill-color);\n",
              "    border-color: transparent;\n",
              "    border-bottom-color: var(--fill-color);\n",
              "    animation:\n",
              "      spin 1s steps(1) infinite;\n",
              "  }\n",
              "\n",
              "  @keyframes spin {\n",
              "    0% {\n",
              "      border-color: transparent;\n",
              "      border-bottom-color: var(--fill-color);\n",
              "      border-left-color: var(--fill-color);\n",
              "    }\n",
              "    20% {\n",
              "      border-color: transparent;\n",
              "      border-left-color: var(--fill-color);\n",
              "      border-top-color: var(--fill-color);\n",
              "    }\n",
              "    30% {\n",
              "      border-color: transparent;\n",
              "      border-left-color: var(--fill-color);\n",
              "      border-top-color: var(--fill-color);\n",
              "      border-right-color: var(--fill-color);\n",
              "    }\n",
              "    40% {\n",
              "      border-color: transparent;\n",
              "      border-right-color: var(--fill-color);\n",
              "      border-top-color: var(--fill-color);\n",
              "    }\n",
              "    60% {\n",
              "      border-color: transparent;\n",
              "      border-right-color: var(--fill-color);\n",
              "    }\n",
              "    80% {\n",
              "      border-color: transparent;\n",
              "      border-right-color: var(--fill-color);\n",
              "      border-bottom-color: var(--fill-color);\n",
              "    }\n",
              "    90% {\n",
              "      border-color: transparent;\n",
              "      border-bottom-color: var(--fill-color);\n",
              "    }\n",
              "  }\n",
              "</style>\n",
              "\n",
              "  <script>\n",
              "    async function quickchart(key) {\n",
              "      const quickchartButtonEl =\n",
              "        document.querySelector('#' + key + ' button');\n",
              "      quickchartButtonEl.disabled = true;  // To prevent multiple clicks.\n",
              "      quickchartButtonEl.classList.add('colab-df-spinner');\n",
              "      try {\n",
              "        const charts = await google.colab.kernel.invokeFunction(\n",
              "            'suggestCharts', [key], {});\n",
              "      } catch (error) {\n",
              "        console.error('Error during call to suggestCharts:', error);\n",
              "      }\n",
              "      quickchartButtonEl.classList.remove('colab-df-spinner');\n",
              "      quickchartButtonEl.classList.add('colab-df-quickchart-complete');\n",
              "    }\n",
              "    (() => {\n",
              "      let quickchartButtonEl =\n",
              "        document.querySelector('#df-4ef18362-d23d-41ca-accd-aac1aa7c8000 button');\n",
              "      quickchartButtonEl.style.display =\n",
              "        google.colab.kernel.accessAllowed ? 'block' : 'none';\n",
              "    })();\n",
              "  </script>\n",
              "</div>\n",
              "\n",
              "    </div>\n",
              "  </div>\n"
            ],
            "application/vnd.google.colaboratory.intrinsic+json": {
              "type": "dataframe",
              "variable_name": "X"
            }
          },
          "metadata": {},
          "execution_count": 6
        }
      ]
    },
    {
      "cell_type": "code",
      "source": [
        "unique = y['Target'].unique()\n",
        "unique"
      ],
      "metadata": {
        "colab": {
          "base_uri": "https://localhost:8080/"
        },
        "id": "vvr6OroXeSxp",
        "outputId": "c6f5e16d-46c8-47b3-f382-a0d9e1611ea5"
      },
      "execution_count": null,
      "outputs": [
        {
          "output_type": "execute_result",
          "data": {
            "text/plain": [
              "array(['Dropout', 'Graduate', 'Enrolled'], dtype=object)"
            ]
          },
          "metadata": {},
          "execution_count": 7
        }
      ]
    },
    {
      "cell_type": "markdown",
      "source": [
        "Ada 3 nilai dari variabel y ('Target) yaitu 'Dropout', 'Graduate', dan 'Enrolled'"
      ],
      "metadata": {
        "id": "FBEkz3Cseeha"
      }
    },
    {
      "cell_type": "code",
      "source": [
        "from sklearn.preprocessing import LabelEncoder\n",
        "\n",
        "le = LabelEncoder()\n",
        "y['Target'] = le.fit_transform(y['Target'])"
      ],
      "metadata": {
        "id": "n0fjl6zN-7K_"
      },
      "execution_count": null,
      "outputs": []
    },
    {
      "cell_type": "markdown",
      "source": [
        "Note bahwa pengkodean akan secara urutan alfabet diurutkan dengan numerik dimulai dari 0, yaitu :    \n",
        "- Dropout : 0   \n",
        "- Enrolled : 1   \n",
        "- Graduate : 2   "
      ],
      "metadata": {
        "id": "egM_K3aufIOO"
      }
    },
    {
      "cell_type": "code",
      "execution_count": null,
      "metadata": {
        "colab": {
          "base_uri": "https://localhost:8080/"
        },
        "id": "0u5gltbB7l9x",
        "outputId": "b58e768e-c150-4e65-a62f-56bf460b015c"
      },
      "outputs": [
        {
          "output_type": "stream",
          "name": "stdout",
          "text": [
            "{'Target'}, (3539, 36), (885, 36)\n"
          ]
        }
      ],
      "source": [
        "# Split Train-Test\n",
        "\n",
        "x_train, x_test, y_train, y_test = train_test_split(X, y, test_size=0.2, random_state=99)\n",
        "\n",
        "print(set(y), x_train.shape, x_test.shape, sep=', ')"
      ]
    },
    {
      "cell_type": "markdown",
      "source": [
        "#<font color=\"90C796\">**Pemodelan**</font>\n"
      ],
      "metadata": {
        "id": "G-YfdPCVCLdH"
      }
    },
    {
      "cell_type": "markdown",
      "source": [
        "##<font color=\"FEEB99\">**KNN**\n",
        "\n",
        "Disusun oleh : Fauzan Adzhima Alamsyah (1906376804)"
      ],
      "metadata": {
        "id": "0IxvbH3MC1kg"
      }
    },
    {
      "cell_type": "code",
      "source": [
        "from sklearn import neighbors\n",
        "\n",
        "n_neighbors = 3\n",
        "weights = 'distance'\n",
        "kNN = neighbors.KNeighborsClassifier(n_neighbors, weights=weights)\n",
        "kNN.fit(x_train, y_train)"
      ],
      "metadata": {
        "id": "fkAwIyWHC1hs",
        "colab": {
          "base_uri": "https://localhost:8080/"
        },
        "outputId": "d74ba5f6-13ce-4f63-efc9-bbd282a18426"
      },
      "execution_count": null,
      "outputs": [
        {
          "output_type": "execute_result",
          "data": {
            "text/plain": [
              "KNeighborsClassifier(n_neighbors=3, weights='distance')"
            ],
            "text/html": [
              "<style>#sk-container-id-1 {\n",
              "  /* Definition of color scheme common for light and dark mode */\n",
              "  --sklearn-color-text: black;\n",
              "  --sklearn-color-line: gray;\n",
              "  /* Definition of color scheme for unfitted estimators */\n",
              "  --sklearn-color-unfitted-level-0: #fff5e6;\n",
              "  --sklearn-color-unfitted-level-1: #f6e4d2;\n",
              "  --sklearn-color-unfitted-level-2: #ffe0b3;\n",
              "  --sklearn-color-unfitted-level-3: chocolate;\n",
              "  /* Definition of color scheme for fitted estimators */\n",
              "  --sklearn-color-fitted-level-0: #f0f8ff;\n",
              "  --sklearn-color-fitted-level-1: #d4ebff;\n",
              "  --sklearn-color-fitted-level-2: #b3dbfd;\n",
              "  --sklearn-color-fitted-level-3: cornflowerblue;\n",
              "\n",
              "  /* Specific color for light theme */\n",
              "  --sklearn-color-text-on-default-background: var(--sg-text-color, var(--theme-code-foreground, var(--jp-content-font-color1, black)));\n",
              "  --sklearn-color-background: var(--sg-background-color, var(--theme-background, var(--jp-layout-color0, white)));\n",
              "  --sklearn-color-border-box: var(--sg-text-color, var(--theme-code-foreground, var(--jp-content-font-color1, black)));\n",
              "  --sklearn-color-icon: #696969;\n",
              "\n",
              "  @media (prefers-color-scheme: dark) {\n",
              "    /* Redefinition of color scheme for dark theme */\n",
              "    --sklearn-color-text-on-default-background: var(--sg-text-color, var(--theme-code-foreground, var(--jp-content-font-color1, white)));\n",
              "    --sklearn-color-background: var(--sg-background-color, var(--theme-background, var(--jp-layout-color0, #111)));\n",
              "    --sklearn-color-border-box: var(--sg-text-color, var(--theme-code-foreground, var(--jp-content-font-color1, white)));\n",
              "    --sklearn-color-icon: #878787;\n",
              "  }\n",
              "}\n",
              "\n",
              "#sk-container-id-1 {\n",
              "  color: var(--sklearn-color-text);\n",
              "}\n",
              "\n",
              "#sk-container-id-1 pre {\n",
              "  padding: 0;\n",
              "}\n",
              "\n",
              "#sk-container-id-1 input.sk-hidden--visually {\n",
              "  border: 0;\n",
              "  clip: rect(1px 1px 1px 1px);\n",
              "  clip: rect(1px, 1px, 1px, 1px);\n",
              "  height: 1px;\n",
              "  margin: -1px;\n",
              "  overflow: hidden;\n",
              "  padding: 0;\n",
              "  position: absolute;\n",
              "  width: 1px;\n",
              "}\n",
              "\n",
              "#sk-container-id-1 div.sk-dashed-wrapped {\n",
              "  border: 1px dashed var(--sklearn-color-line);\n",
              "  margin: 0 0.4em 0.5em 0.4em;\n",
              "  box-sizing: border-box;\n",
              "  padding-bottom: 0.4em;\n",
              "  background-color: var(--sklearn-color-background);\n",
              "}\n",
              "\n",
              "#sk-container-id-1 div.sk-container {\n",
              "  /* jupyter's `normalize.less` sets `[hidden] { display: none; }`\n",
              "     but bootstrap.min.css set `[hidden] { display: none !important; }`\n",
              "     so we also need the `!important` here to be able to override the\n",
              "     default hidden behavior on the sphinx rendered scikit-learn.org.\n",
              "     See: https://github.com/scikit-learn/scikit-learn/issues/21755 */\n",
              "  display: inline-block !important;\n",
              "  position: relative;\n",
              "}\n",
              "\n",
              "#sk-container-id-1 div.sk-text-repr-fallback {\n",
              "  display: none;\n",
              "}\n",
              "\n",
              "div.sk-parallel-item,\n",
              "div.sk-serial,\n",
              "div.sk-item {\n",
              "  /* draw centered vertical line to link estimators */\n",
              "  background-image: linear-gradient(var(--sklearn-color-text-on-default-background), var(--sklearn-color-text-on-default-background));\n",
              "  background-size: 2px 100%;\n",
              "  background-repeat: no-repeat;\n",
              "  background-position: center center;\n",
              "}\n",
              "\n",
              "/* Parallel-specific style estimator block */\n",
              "\n",
              "#sk-container-id-1 div.sk-parallel-item::after {\n",
              "  content: \"\";\n",
              "  width: 100%;\n",
              "  border-bottom: 2px solid var(--sklearn-color-text-on-default-background);\n",
              "  flex-grow: 1;\n",
              "}\n",
              "\n",
              "#sk-container-id-1 div.sk-parallel {\n",
              "  display: flex;\n",
              "  align-items: stretch;\n",
              "  justify-content: center;\n",
              "  background-color: var(--sklearn-color-background);\n",
              "  position: relative;\n",
              "}\n",
              "\n",
              "#sk-container-id-1 div.sk-parallel-item {\n",
              "  display: flex;\n",
              "  flex-direction: column;\n",
              "}\n",
              "\n",
              "#sk-container-id-1 div.sk-parallel-item:first-child::after {\n",
              "  align-self: flex-end;\n",
              "  width: 50%;\n",
              "}\n",
              "\n",
              "#sk-container-id-1 div.sk-parallel-item:last-child::after {\n",
              "  align-self: flex-start;\n",
              "  width: 50%;\n",
              "}\n",
              "\n",
              "#sk-container-id-1 div.sk-parallel-item:only-child::after {\n",
              "  width: 0;\n",
              "}\n",
              "\n",
              "/* Serial-specific style estimator block */\n",
              "\n",
              "#sk-container-id-1 div.sk-serial {\n",
              "  display: flex;\n",
              "  flex-direction: column;\n",
              "  align-items: center;\n",
              "  background-color: var(--sklearn-color-background);\n",
              "  padding-right: 1em;\n",
              "  padding-left: 1em;\n",
              "}\n",
              "\n",
              "\n",
              "/* Toggleable style: style used for estimator/Pipeline/ColumnTransformer box that is\n",
              "clickable and can be expanded/collapsed.\n",
              "- Pipeline and ColumnTransformer use this feature and define the default style\n",
              "- Estimators will overwrite some part of the style using the `sk-estimator` class\n",
              "*/\n",
              "\n",
              "/* Pipeline and ColumnTransformer style (default) */\n",
              "\n",
              "#sk-container-id-1 div.sk-toggleable {\n",
              "  /* Default theme specific background. It is overwritten whether we have a\n",
              "  specific estimator or a Pipeline/ColumnTransformer */\n",
              "  background-color: var(--sklearn-color-background);\n",
              "}\n",
              "\n",
              "/* Toggleable label */\n",
              "#sk-container-id-1 label.sk-toggleable__label {\n",
              "  cursor: pointer;\n",
              "  display: block;\n",
              "  width: 100%;\n",
              "  margin-bottom: 0;\n",
              "  padding: 0.5em;\n",
              "  box-sizing: border-box;\n",
              "  text-align: center;\n",
              "}\n",
              "\n",
              "#sk-container-id-1 label.sk-toggleable__label-arrow:before {\n",
              "  /* Arrow on the left of the label */\n",
              "  content: \"▸\";\n",
              "  float: left;\n",
              "  margin-right: 0.25em;\n",
              "  color: var(--sklearn-color-icon);\n",
              "}\n",
              "\n",
              "#sk-container-id-1 label.sk-toggleable__label-arrow:hover:before {\n",
              "  color: var(--sklearn-color-text);\n",
              "}\n",
              "\n",
              "/* Toggleable content - dropdown */\n",
              "\n",
              "#sk-container-id-1 div.sk-toggleable__content {\n",
              "  max-height: 0;\n",
              "  max-width: 0;\n",
              "  overflow: hidden;\n",
              "  text-align: left;\n",
              "  /* unfitted */\n",
              "  background-color: var(--sklearn-color-unfitted-level-0);\n",
              "}\n",
              "\n",
              "#sk-container-id-1 div.sk-toggleable__content.fitted {\n",
              "  /* fitted */\n",
              "  background-color: var(--sklearn-color-fitted-level-0);\n",
              "}\n",
              "\n",
              "#sk-container-id-1 div.sk-toggleable__content pre {\n",
              "  margin: 0.2em;\n",
              "  border-radius: 0.25em;\n",
              "  color: var(--sklearn-color-text);\n",
              "  /* unfitted */\n",
              "  background-color: var(--sklearn-color-unfitted-level-0);\n",
              "}\n",
              "\n",
              "#sk-container-id-1 div.sk-toggleable__content.fitted pre {\n",
              "  /* unfitted */\n",
              "  background-color: var(--sklearn-color-fitted-level-0);\n",
              "}\n",
              "\n",
              "#sk-container-id-1 input.sk-toggleable__control:checked~div.sk-toggleable__content {\n",
              "  /* Expand drop-down */\n",
              "  max-height: 200px;\n",
              "  max-width: 100%;\n",
              "  overflow: auto;\n",
              "}\n",
              "\n",
              "#sk-container-id-1 input.sk-toggleable__control:checked~label.sk-toggleable__label-arrow:before {\n",
              "  content: \"▾\";\n",
              "}\n",
              "\n",
              "/* Pipeline/ColumnTransformer-specific style */\n",
              "\n",
              "#sk-container-id-1 div.sk-label input.sk-toggleable__control:checked~label.sk-toggleable__label {\n",
              "  color: var(--sklearn-color-text);\n",
              "  background-color: var(--sklearn-color-unfitted-level-2);\n",
              "}\n",
              "\n",
              "#sk-container-id-1 div.sk-label.fitted input.sk-toggleable__control:checked~label.sk-toggleable__label {\n",
              "  background-color: var(--sklearn-color-fitted-level-2);\n",
              "}\n",
              "\n",
              "/* Estimator-specific style */\n",
              "\n",
              "/* Colorize estimator box */\n",
              "#sk-container-id-1 div.sk-estimator input.sk-toggleable__control:checked~label.sk-toggleable__label {\n",
              "  /* unfitted */\n",
              "  background-color: var(--sklearn-color-unfitted-level-2);\n",
              "}\n",
              "\n",
              "#sk-container-id-1 div.sk-estimator.fitted input.sk-toggleable__control:checked~label.sk-toggleable__label {\n",
              "  /* fitted */\n",
              "  background-color: var(--sklearn-color-fitted-level-2);\n",
              "}\n",
              "\n",
              "#sk-container-id-1 div.sk-label label.sk-toggleable__label,\n",
              "#sk-container-id-1 div.sk-label label {\n",
              "  /* The background is the default theme color */\n",
              "  color: var(--sklearn-color-text-on-default-background);\n",
              "}\n",
              "\n",
              "/* On hover, darken the color of the background */\n",
              "#sk-container-id-1 div.sk-label:hover label.sk-toggleable__label {\n",
              "  color: var(--sklearn-color-text);\n",
              "  background-color: var(--sklearn-color-unfitted-level-2);\n",
              "}\n",
              "\n",
              "/* Label box, darken color on hover, fitted */\n",
              "#sk-container-id-1 div.sk-label.fitted:hover label.sk-toggleable__label.fitted {\n",
              "  color: var(--sklearn-color-text);\n",
              "  background-color: var(--sklearn-color-fitted-level-2);\n",
              "}\n",
              "\n",
              "/* Estimator label */\n",
              "\n",
              "#sk-container-id-1 div.sk-label label {\n",
              "  font-family: monospace;\n",
              "  font-weight: bold;\n",
              "  display: inline-block;\n",
              "  line-height: 1.2em;\n",
              "}\n",
              "\n",
              "#sk-container-id-1 div.sk-label-container {\n",
              "  text-align: center;\n",
              "}\n",
              "\n",
              "/* Estimator-specific */\n",
              "#sk-container-id-1 div.sk-estimator {\n",
              "  font-family: monospace;\n",
              "  border: 1px dotted var(--sklearn-color-border-box);\n",
              "  border-radius: 0.25em;\n",
              "  box-sizing: border-box;\n",
              "  margin-bottom: 0.5em;\n",
              "  /* unfitted */\n",
              "  background-color: var(--sklearn-color-unfitted-level-0);\n",
              "}\n",
              "\n",
              "#sk-container-id-1 div.sk-estimator.fitted {\n",
              "  /* fitted */\n",
              "  background-color: var(--sklearn-color-fitted-level-0);\n",
              "}\n",
              "\n",
              "/* on hover */\n",
              "#sk-container-id-1 div.sk-estimator:hover {\n",
              "  /* unfitted */\n",
              "  background-color: var(--sklearn-color-unfitted-level-2);\n",
              "}\n",
              "\n",
              "#sk-container-id-1 div.sk-estimator.fitted:hover {\n",
              "  /* fitted */\n",
              "  background-color: var(--sklearn-color-fitted-level-2);\n",
              "}\n",
              "\n",
              "/* Specification for estimator info (e.g. \"i\" and \"?\") */\n",
              "\n",
              "/* Common style for \"i\" and \"?\" */\n",
              "\n",
              ".sk-estimator-doc-link,\n",
              "a:link.sk-estimator-doc-link,\n",
              "a:visited.sk-estimator-doc-link {\n",
              "  float: right;\n",
              "  font-size: smaller;\n",
              "  line-height: 1em;\n",
              "  font-family: monospace;\n",
              "  background-color: var(--sklearn-color-background);\n",
              "  border-radius: 1em;\n",
              "  height: 1em;\n",
              "  width: 1em;\n",
              "  text-decoration: none !important;\n",
              "  margin-left: 1ex;\n",
              "  /* unfitted */\n",
              "  border: var(--sklearn-color-unfitted-level-1) 1pt solid;\n",
              "  color: var(--sklearn-color-unfitted-level-1);\n",
              "}\n",
              "\n",
              ".sk-estimator-doc-link.fitted,\n",
              "a:link.sk-estimator-doc-link.fitted,\n",
              "a:visited.sk-estimator-doc-link.fitted {\n",
              "  /* fitted */\n",
              "  border: var(--sklearn-color-fitted-level-1) 1pt solid;\n",
              "  color: var(--sklearn-color-fitted-level-1);\n",
              "}\n",
              "\n",
              "/* On hover */\n",
              "div.sk-estimator:hover .sk-estimator-doc-link:hover,\n",
              ".sk-estimator-doc-link:hover,\n",
              "div.sk-label-container:hover .sk-estimator-doc-link:hover,\n",
              ".sk-estimator-doc-link:hover {\n",
              "  /* unfitted */\n",
              "  background-color: var(--sklearn-color-unfitted-level-3);\n",
              "  color: var(--sklearn-color-background);\n",
              "  text-decoration: none;\n",
              "}\n",
              "\n",
              "div.sk-estimator.fitted:hover .sk-estimator-doc-link.fitted:hover,\n",
              ".sk-estimator-doc-link.fitted:hover,\n",
              "div.sk-label-container:hover .sk-estimator-doc-link.fitted:hover,\n",
              ".sk-estimator-doc-link.fitted:hover {\n",
              "  /* fitted */\n",
              "  background-color: var(--sklearn-color-fitted-level-3);\n",
              "  color: var(--sklearn-color-background);\n",
              "  text-decoration: none;\n",
              "}\n",
              "\n",
              "/* Span, style for the box shown on hovering the info icon */\n",
              ".sk-estimator-doc-link span {\n",
              "  display: none;\n",
              "  z-index: 9999;\n",
              "  position: relative;\n",
              "  font-weight: normal;\n",
              "  right: .2ex;\n",
              "  padding: .5ex;\n",
              "  margin: .5ex;\n",
              "  width: min-content;\n",
              "  min-width: 20ex;\n",
              "  max-width: 50ex;\n",
              "  color: var(--sklearn-color-text);\n",
              "  box-shadow: 2pt 2pt 4pt #999;\n",
              "  /* unfitted */\n",
              "  background: var(--sklearn-color-unfitted-level-0);\n",
              "  border: .5pt solid var(--sklearn-color-unfitted-level-3);\n",
              "}\n",
              "\n",
              ".sk-estimator-doc-link.fitted span {\n",
              "  /* fitted */\n",
              "  background: var(--sklearn-color-fitted-level-0);\n",
              "  border: var(--sklearn-color-fitted-level-3);\n",
              "}\n",
              "\n",
              ".sk-estimator-doc-link:hover span {\n",
              "  display: block;\n",
              "}\n",
              "\n",
              "/* \"?\"-specific style due to the `<a>` HTML tag */\n",
              "\n",
              "#sk-container-id-1 a.estimator_doc_link {\n",
              "  float: right;\n",
              "  font-size: 1rem;\n",
              "  line-height: 1em;\n",
              "  font-family: monospace;\n",
              "  background-color: var(--sklearn-color-background);\n",
              "  border-radius: 1rem;\n",
              "  height: 1rem;\n",
              "  width: 1rem;\n",
              "  text-decoration: none;\n",
              "  /* unfitted */\n",
              "  color: var(--sklearn-color-unfitted-level-1);\n",
              "  border: var(--sklearn-color-unfitted-level-1) 1pt solid;\n",
              "}\n",
              "\n",
              "#sk-container-id-1 a.estimator_doc_link.fitted {\n",
              "  /* fitted */\n",
              "  border: var(--sklearn-color-fitted-level-1) 1pt solid;\n",
              "  color: var(--sklearn-color-fitted-level-1);\n",
              "}\n",
              "\n",
              "/* On hover */\n",
              "#sk-container-id-1 a.estimator_doc_link:hover {\n",
              "  /* unfitted */\n",
              "  background-color: var(--sklearn-color-unfitted-level-3);\n",
              "  color: var(--sklearn-color-background);\n",
              "  text-decoration: none;\n",
              "}\n",
              "\n",
              "#sk-container-id-1 a.estimator_doc_link.fitted:hover {\n",
              "  /* fitted */\n",
              "  background-color: var(--sklearn-color-fitted-level-3);\n",
              "}\n",
              "</style><div id=\"sk-container-id-1\" class=\"sk-top-container\"><div class=\"sk-text-repr-fallback\"><pre>KNeighborsClassifier(n_neighbors=3, weights=&#x27;distance&#x27;)</pre><b>In a Jupyter environment, please rerun this cell to show the HTML representation or trust the notebook. <br />On GitHub, the HTML representation is unable to render, please try loading this page with nbviewer.org.</b></div><div class=\"sk-container\" hidden><div class=\"sk-item\"><div class=\"sk-estimator fitted sk-toggleable\"><input class=\"sk-toggleable__control sk-hidden--visually\" id=\"sk-estimator-id-1\" type=\"checkbox\" checked><label for=\"sk-estimator-id-1\" class=\"sk-toggleable__label fitted sk-toggleable__label-arrow fitted\">&nbsp;&nbsp;KNeighborsClassifier<a class=\"sk-estimator-doc-link fitted\" rel=\"noreferrer\" target=\"_blank\" href=\"https://scikit-learn.org/1.5/modules/generated/sklearn.neighbors.KNeighborsClassifier.html\">?<span>Documentation for KNeighborsClassifier</span></a><span class=\"sk-estimator-doc-link fitted\">i<span>Fitted</span></span></label><div class=\"sk-toggleable__content fitted\"><pre>KNeighborsClassifier(n_neighbors=3, weights=&#x27;distance&#x27;)</pre></div> </div></div></div></div>"
            ]
          },
          "metadata": {},
          "execution_count": 10
        }
      ]
    },
    {
      "cell_type": "code",
      "source": [
        "y_kNN = kNN.predict(x_test)"
      ],
      "metadata": {
        "id": "qSLlEdLZC1e7"
      },
      "execution_count": null,
      "outputs": []
    },
    {
      "cell_type": "code",
      "source": [
        "accuracy_score(y_test, y_kNN)"
      ],
      "metadata": {
        "colab": {
          "base_uri": "https://localhost:8080/"
        },
        "id": "xbJ7md10IgWM",
        "outputId": "57263318-852a-4a61-ec42-ffc9a520d299"
      },
      "execution_count": null,
      "outputs": [
        {
          "output_type": "execute_result",
          "data": {
            "text/plain": [
              "0.5932203389830508"
            ]
          },
          "metadata": {},
          "execution_count": 12
        }
      ]
    },
    {
      "cell_type": "code",
      "source": [
        "# Cross Validasi\n",
        "del kNN\n",
        "kNN = neighbors.KNeighborsClassifier(n_neighbors, weights=weights)\n",
        "\n",
        "mulai = time.time()\n",
        "scores_kNN = cross_val_score(kNN, x_train, y_train, cv=10) # perhatikan sekarang kita menggunakan seluruh data\n",
        "waktu = time.time() - mulai\n",
        "# Interval Akurasi 95 CI\n",
        "print(\"Accuracy kNN: %0.2f (+/- %0.2f), Waktu = %0.3f detik\" % (scores_kNN.mean(), scores_kNN.std() * 2, waktu))"
      ],
      "metadata": {
        "colab": {
          "base_uri": "https://localhost:8080/"
        },
        "id": "CFxdamHUIgZ7",
        "outputId": "8792b759-8e11-431a-c6f3-6a62bfd68420"
      },
      "execution_count": null,
      "outputs": [
        {
          "output_type": "stream",
          "name": "stdout",
          "text": [
            "Accuracy kNN: 0.59 (+/- 0.04), Waktu = 0.588 detik\n"
          ]
        }
      ]
    },
    {
      "cell_type": "code",
      "source": [
        "from sklearn.metrics import confusion_matrix, classification_report\n",
        "\n",
        "print(confusion_matrix(y_test, y_kNN))\n",
        "print(classification_report(y_test, y_kNN))"
      ],
      "metadata": {
        "colab": {
          "base_uri": "https://localhost:8080/"
        },
        "id": "Z1r3BgcqIgca",
        "outputId": "e8b0ae58-fd08-4e9f-a671-48226a4e183f"
      },
      "execution_count": null,
      "outputs": [
        {
          "output_type": "stream",
          "name": "stdout",
          "text": [
            "[[143  43  93]\n",
            " [ 38  41  85]\n",
            " [ 46  55 341]]\n",
            "              precision    recall  f1-score   support\n",
            "\n",
            "           0       0.63      0.51      0.57       279\n",
            "           1       0.29      0.25      0.27       164\n",
            "           2       0.66      0.77      0.71       442\n",
            "\n",
            "    accuracy                           0.59       885\n",
            "   macro avg       0.53      0.51      0.52       885\n",
            "weighted avg       0.58      0.59      0.58       885\n",
            "\n"
          ]
        }
      ]
    },
    {
      "cell_type": "code",
      "source": [
        "%matplotlib inline\n",
        "import matplotlib.pyplot as plt; plt.style.use('classic')\n",
        "import seaborn as sns; sns.set()\n",
        "\n",
        "df = pd.DataFrame({'Regresi Logistik':scores_kNN})\n",
        "sns.boxplot(data=df)\n",
        "plt.show()"
      ],
      "metadata": {
        "colab": {
          "base_uri": "https://localhost:8080/"
        },
        "id": "V1XsjNbQI33O",
        "outputId": "262ffba9-0386-4019-9d1d-21ecc249c67e"
      },
      "execution_count": null,
      "outputs": [
        {
          "output_type": "display_data",
          "data": {
            "text/plain": [
              "<Figure size 640x480 with 1 Axes>"
            ],
            "image/png": "[encoded data removed]"
          },
          "metadata": {}
        }
      ]
    },
    {
      "cell_type": "code",
      "source": [],
      "metadata": {
        "id": "YpYvAR65I4FF"
      },
      "execution_count": null,
      "outputs": []
    },
    {
      "cell_type": "markdown",
      "source": [
        "##<font color=\"FEEB99\"> **Regresi Logistik**\n",
        "\n",
        "Disusun oleh : Fauzan Adzhima Alamsyah (1906376804)"
      ],
      "metadata": {
        "id": "rMbp-_uqDNqA"
      }
    },
    {
      "cell_type": "code",
      "source": [
        "from sklearn.linear_model import LogisticRegression\n",
        "\n",
        "clf = LogisticRegression(multi_class='ovr').fit(x_train, y_train)"
      ],
      "metadata": {
        "id": "qJFcRNTdC1b1"
      },
      "execution_count": null,
      "outputs": []
    },
    {
      "cell_type": "code",
      "source": [
        "clf"
      ],
      "metadata": {
        "colab": {
          "base_uri": "https://localhost:8080/"
        },
        "id": "vl_iFQ_YC1W6",
        "outputId": "eaac5a71-8337-42f6-dd9c-a500c9bcd463"
      },
      "execution_count": null,
      "outputs": [
        {
          "output_type": "execute_result",
          "data": {
            "text/plain": [
              "LogisticRegression(multi_class='ovr')"
            ],
            "text/html": [
              "<style>#sk-container-id-2 {\n",
              "  /* Definition of color scheme common for light and dark mode */\n",
              "  --sklearn-color-text: black;\n",
              "  --sklearn-color-line: gray;\n",
              "  /* Definition of color scheme for unfitted estimators */\n",
              "  --sklearn-color-unfitted-level-0: #fff5e6;\n",
              "  --sklearn-color-unfitted-level-1: #f6e4d2;\n",
              "  --sklearn-color-unfitted-level-2: #ffe0b3;\n",
              "  --sklearn-color-unfitted-level-3: chocolate;\n",
              "  /* Definition of color scheme for fitted estimators */\n",
              "  --sklearn-color-fitted-level-0: #f0f8ff;\n",
              "  --sklearn-color-fitted-level-1: #d4ebff;\n",
              "  --sklearn-color-fitted-level-2: #b3dbfd;\n",
              "  --sklearn-color-fitted-level-3: cornflowerblue;\n",
              "\n",
              "  /* Specific color for light theme */\n",
              "  --sklearn-color-text-on-default-background: var(--sg-text-color, var(--theme-code-foreground, var(--jp-content-font-color1, black)));\n",
              "  --sklearn-color-background: var(--sg-background-color, var(--theme-background, var(--jp-layout-color0, white)));\n",
              "  --sklearn-color-border-box: var(--sg-text-color, var(--theme-code-foreground, var(--jp-content-font-color1, black)));\n",
              "  --sklearn-color-icon: #696969;\n",
              "\n",
              "  @media (prefers-color-scheme: dark) {\n",
              "    /* Redefinition of color scheme for dark theme */\n",
              "    --sklearn-color-text-on-default-background: var(--sg-text-color, var(--theme-code-foreground, var(--jp-content-font-color1, white)));\n",
              "    --sklearn-color-background: var(--sg-background-color, var(--theme-background, var(--jp-layout-color0, #111)));\n",
              "    --sklearn-color-border-box: var(--sg-text-color, var(--theme-code-foreground, var(--jp-content-font-color1, white)));\n",
              "    --sklearn-color-icon: #878787;\n",
              "  }\n",
              "}\n",
              "\n",
              "#sk-container-id-2 {\n",
              "  color: var(--sklearn-color-text);\n",
              "}\n",
              "\n",
              "#sk-container-id-2 pre {\n",
              "  padding: 0;\n",
              "}\n",
              "\n",
              "#sk-container-id-2 input.sk-hidden--visually {\n",
              "  border: 0;\n",
              "  clip: rect(1px 1px 1px 1px);\n",
              "  clip: rect(1px, 1px, 1px, 1px);\n",
              "  height: 1px;\n",
              "  margin: -1px;\n",
              "  overflow: hidden;\n",
              "  padding: 0;\n",
              "  position: absolute;\n",
              "  width: 1px;\n",
              "}\n",
              "\n",
              "#sk-container-id-2 div.sk-dashed-wrapped {\n",
              "  border: 1px dashed var(--sklearn-color-line);\n",
              "  margin: 0 0.4em 0.5em 0.4em;\n",
              "  box-sizing: border-box;\n",
              "  padding-bottom: 0.4em;\n",
              "  background-color: var(--sklearn-color-background);\n",
              "}\n",
              "\n",
              "#sk-container-id-2 div.sk-container {\n",
              "  /* jupyter's `normalize.less` sets `[hidden] { display: none; }`\n",
              "     but bootstrap.min.css set `[hidden] { display: none !important; }`\n",
              "     so we also need the `!important` here to be able to override the\n",
              "     default hidden behavior on the sphinx rendered scikit-learn.org.\n",
              "     See: https://github.com/scikit-learn/scikit-learn/issues/21755 */\n",
              "  display: inline-block !important;\n",
              "  position: relative;\n",
              "}\n",
              "\n",
              "#sk-container-id-2 div.sk-text-repr-fallback {\n",
              "  display: none;\n",
              "}\n",
              "\n",
              "div.sk-parallel-item,\n",
              "div.sk-serial,\n",
              "div.sk-item {\n",
              "  /* draw centered vertical line to link estimators */\n",
              "  background-image: linear-gradient(var(--sklearn-color-text-on-default-background), var(--sklearn-color-text-on-default-background));\n",
              "  background-size: 2px 100%;\n",
              "  background-repeat: no-repeat;\n",
              "  background-position: center center;\n",
              "}\n",
              "\n",
              "/* Parallel-specific style estimator block */\n",
              "\n",
              "#sk-container-id-2 div.sk-parallel-item::after {\n",
              "  content: \"\";\n",
              "  width: 100%;\n",
              "  border-bottom: 2px solid var(--sklearn-color-text-on-default-background);\n",
              "  flex-grow: 1;\n",
              "}\n",
              "\n",
              "#sk-container-id-2 div.sk-parallel {\n",
              "  display: flex;\n",
              "  align-items: stretch;\n",
              "  justify-content: center;\n",
              "  background-color: var(--sklearn-color-background);\n",
              "  position: relative;\n",
              "}\n",
              "\n",
              "#sk-container-id-2 div.sk-parallel-item {\n",
              "  display: flex;\n",
              "  flex-direction: column;\n",
              "}\n",
              "\n",
              "#sk-container-id-2 div.sk-parallel-item:first-child::after {\n",
              "  align-self: flex-end;\n",
              "  width: 50%;\n",
              "}\n",
              "\n",
              "#sk-container-id-2 div.sk-parallel-item:last-child::after {\n",
              "  align-self: flex-start;\n",
              "  width: 50%;\n",
              "}\n",
              "\n",
              "#sk-container-id-2 div.sk-parallel-item:only-child::after {\n",
              "  width: 0;\n",
              "}\n",
              "\n",
              "/* Serial-specific style estimator block */\n",
              "\n",
              "#sk-container-id-2 div.sk-serial {\n",
              "  display: flex;\n",
              "  flex-direction: column;\n",
              "  align-items: center;\n",
              "  background-color: var(--sklearn-color-background);\n",
              "  padding-right: 1em;\n",
              "  padding-left: 1em;\n",
              "}\n",
              "\n",
              "\n",
              "/* Toggleable style: style used for estimator/Pipeline/ColumnTransformer box that is\n",
              "clickable and can be expanded/collapsed.\n",
              "- Pipeline and ColumnTransformer use this feature and define the default style\n",
              "- Estimators will overwrite some part of the style using the `sk-estimator` class\n",
              "*/\n",
              "\n",
              "/* Pipeline and ColumnTransformer style (default) */\n",
              "\n",
              "#sk-container-id-2 div.sk-toggleable {\n",
              "  /* Default theme specific background. It is overwritten whether we have a\n",
              "  specific estimator or a Pipeline/ColumnTransformer */\n",
              "  background-color: var(--sklearn-color-background);\n",
              "}\n",
              "\n",
              "/* Toggleable label */\n",
              "#sk-container-id-2 label.sk-toggleable__label {\n",
              "  cursor: pointer;\n",
              "  display: block;\n",
              "  width: 100%;\n",
              "  margin-bottom: 0;\n",
              "  padding: 0.5em;\n",
              "  box-sizing: border-box;\n",
              "  text-align: center;\n",
              "}\n",
              "\n",
              "#sk-container-id-2 label.sk-toggleable__label-arrow:before {\n",
              "  /* Arrow on the left of the label */\n",
              "  content: \"▸\";\n",
              "  float: left;\n",
              "  margin-right: 0.25em;\n",
              "  color: var(--sklearn-color-icon);\n",
              "}\n",
              "\n",
              "#sk-container-id-2 label.sk-toggleable__label-arrow:hover:before {\n",
              "  color: var(--sklearn-color-text);\n",
              "}\n",
              "\n",
              "/* Toggleable content - dropdown */\n",
              "\n",
              "#sk-container-id-2 div.sk-toggleable__content {\n",
              "  max-height: 0;\n",
              "  max-width: 0;\n",
              "  overflow: hidden;\n",
              "  text-align: left;\n",
              "  /* unfitted */\n",
              "  background-color: var(--sklearn-color-unfitted-level-0);\n",
              "}\n",
              "\n",
              "#sk-container-id-2 div.sk-toggleable__content.fitted {\n",
              "  /* fitted */\n",
              "  background-color: var(--sklearn-color-fitted-level-0);\n",
              "}\n",
              "\n",
              "#sk-container-id-2 div.sk-toggleable__content pre {\n",
              "  margin: 0.2em;\n",
              "  border-radius: 0.25em;\n",
              "  color: var(--sklearn-color-text);\n",
              "  /* unfitted */\n",
              "  background-color: var(--sklearn-color-unfitted-level-0);\n",
              "}\n",
              "\n",
              "#sk-container-id-2 div.sk-toggleable__content.fitted pre {\n",
              "  /* unfitted */\n",
              "  background-color: var(--sklearn-color-fitted-level-0);\n",
              "}\n",
              "\n",
              "#sk-container-id-2 input.sk-toggleable__control:checked~div.sk-toggleable__content {\n",
              "  /* Expand drop-down */\n",
              "  max-height: 200px;\n",
              "  max-width: 100%;\n",
              "  overflow: auto;\n",
              "}\n",
              "\n",
              "#sk-container-id-2 input.sk-toggleable__control:checked~label.sk-toggleable__label-arrow:before {\n",
              "  content: \"▾\";\n",
              "}\n",
              "\n",
              "/* Pipeline/ColumnTransformer-specific style */\n",
              "\n",
              "#sk-container-id-2 div.sk-label input.sk-toggleable__control:checked~label.sk-toggleable__label {\n",
              "  color: var(--sklearn-color-text);\n",
              "  background-color: var(--sklearn-color-unfitted-level-2);\n",
              "}\n",
              "\n",
              "#sk-container-id-2 div.sk-label.fitted input.sk-toggleable__control:checked~label.sk-toggleable__label {\n",
              "  background-color: var(--sklearn-color-fitted-level-2);\n",
              "}\n",
              "\n",
              "/* Estimator-specific style */\n",
              "\n",
              "/* Colorize estimator box */\n",
              "#sk-container-id-2 div.sk-estimator input.sk-toggleable__control:checked~label.sk-toggleable__label {\n",
              "  /* unfitted */\n",
              "  background-color: var(--sklearn-color-unfitted-level-2);\n",
              "}\n",
              "\n",
              "#sk-container-id-2 div.sk-estimator.fitted input.sk-toggleable__control:checked~label.sk-toggleable__label {\n",
              "  /* fitted */\n",
              "  background-color: var(--sklearn-color-fitted-level-2);\n",
              "}\n",
              "\n",
              "#sk-container-id-2 div.sk-label label.sk-toggleable__label,\n",
              "#sk-container-id-2 div.sk-label label {\n",
              "  /* The background is the default theme color */\n",
              "  color: var(--sklearn-color-text-on-default-background);\n",
              "}\n",
              "\n",
              "/* On hover, darken the color of the background */\n",
              "#sk-container-id-2 div.sk-label:hover label.sk-toggleable__label {\n",
              "  color: var(--sklearn-color-text);\n",
              "  background-color: var(--sklearn-color-unfitted-level-2);\n",
              "}\n",
              "\n",
              "/* Label box, darken color on hover, fitted */\n",
              "#sk-container-id-2 div.sk-label.fitted:hover label.sk-toggleable__label.fitted {\n",
              "  color: var(--sklearn-color-text);\n",
              "  background-color: var(--sklearn-color-fitted-level-2);\n",
              "}\n",
              "\n",
              "/* Estimator label */\n",
              "\n",
              "#sk-container-id-2 div.sk-label label {\n",
              "  font-family: monospace;\n",
              "  font-weight: bold;\n",
              "  display: inline-block;\n",
              "  line-height: 1.2em;\n",
              "}\n",
              "\n",
              "#sk-container-id-2 div.sk-label-container {\n",
              "  text-align: center;\n",
              "}\n",
              "\n",
              "/* Estimator-specific */\n",
              "#sk-container-id-2 div.sk-estimator {\n",
              "  font-family: monospace;\n",
              "  border: 1px dotted var(--sklearn-color-border-box);\n",
              "  border-radius: 0.25em;\n",
              "  box-sizing: border-box;\n",
              "  margin-bottom: 0.5em;\n",
              "  /* unfitted */\n",
              "  background-color: var(--sklearn-color-unfitted-level-0);\n",
              "}\n",
              "\n",
              "#sk-container-id-2 div.sk-estimator.fitted {\n",
              "  /* fitted */\n",
              "  background-color: var(--sklearn-color-fitted-level-0);\n",
              "}\n",
              "\n",
              "/* on hover */\n",
              "#sk-container-id-2 div.sk-estimator:hover {\n",
              "  /* unfitted */\n",
              "  background-color: var(--sklearn-color-unfitted-level-2);\n",
              "}\n",
              "\n",
              "#sk-container-id-2 div.sk-estimator.fitted:hover {\n",
              "  /* fitted */\n",
              "  background-color: var(--sklearn-color-fitted-level-2);\n",
              "}\n",
              "\n",
              "/* Specification for estimator info (e.g. \"i\" and \"?\") */\n",
              "\n",
              "/* Common style for \"i\" and \"?\" */\n",
              "\n",
              ".sk-estimator-doc-link,\n",
              "a:link.sk-estimator-doc-link,\n",
              "a:visited.sk-estimator-doc-link {\n",
              "  float: right;\n",
              "  font-size: smaller;\n",
              "  line-height: 1em;\n",
              "  font-family: monospace;\n",
              "  background-color: var(--sklearn-color-background);\n",
              "  border-radius: 1em;\n",
              "  height: 1em;\n",
              "  width: 1em;\n",
              "  text-decoration: none !important;\n",
              "  margin-left: 1ex;\n",
              "  /* unfitted */\n",
              "  border: var(--sklearn-color-unfitted-level-1) 1pt solid;\n",
              "  color: var(--sklearn-color-unfitted-level-1);\n",
              "}\n",
              "\n",
              ".sk-estimator-doc-link.fitted,\n",
              "a:link.sk-estimator-doc-link.fitted,\n",
              "a:visited.sk-estimator-doc-link.fitted {\n",
              "  /* fitted */\n",
              "  border: var(--sklearn-color-fitted-level-1) 1pt solid;\n",
              "  color: var(--sklearn-color-fitted-level-1);\n",
              "}\n",
              "\n",
              "/* On hover */\n",
              "div.sk-estimator:hover .sk-estimator-doc-link:hover,\n",
              ".sk-estimator-doc-link:hover,\n",
              "div.sk-label-container:hover .sk-estimator-doc-link:hover,\n",
              ".sk-estimator-doc-link:hover {\n",
              "  /* unfitted */\n",
              "  background-color: var(--sklearn-color-unfitted-level-3);\n",
              "  color: var(--sklearn-color-background);\n",
              "  text-decoration: none;\n",
              "}\n",
              "\n",
              "div.sk-estimator.fitted:hover .sk-estimator-doc-link.fitted:hover,\n",
              ".sk-estimator-doc-link.fitted:hover,\n",
              "div.sk-label-container:hover .sk-estimator-doc-link.fitted:hover,\n",
              ".sk-estimator-doc-link.fitted:hover {\n",
              "  /* fitted */\n",
              "  background-color: var(--sklearn-color-fitted-level-3);\n",
              "  color: var(--sklearn-color-background);\n",
              "  text-decoration: none;\n",
              "}\n",
              "\n",
              "/* Span, style for the box shown on hovering the info icon */\n",
              ".sk-estimator-doc-link span {\n",
              "  display: none;\n",
              "  z-index: 9999;\n",
              "  position: relative;\n",
              "  font-weight: normal;\n",
              "  right: .2ex;\n",
              "  padding: .5ex;\n",
              "  margin: .5ex;\n",
              "  width: min-content;\n",
              "  min-width: 20ex;\n",
              "  max-width: 50ex;\n",
              "  color: var(--sklearn-color-text);\n",
              "  box-shadow: 2pt 2pt 4pt #999;\n",
              "  /* unfitted */\n",
              "  background: var(--sklearn-color-unfitted-level-0);\n",
              "  border: .5pt solid var(--sklearn-color-unfitted-level-3);\n",
              "}\n",
              "\n",
              ".sk-estimator-doc-link.fitted span {\n",
              "  /* fitted */\n",
              "  background: var(--sklearn-color-fitted-level-0);\n",
              "  border: var(--sklearn-color-fitted-level-3);\n",
              "}\n",
              "\n",
              ".sk-estimator-doc-link:hover span {\n",
              "  display: block;\n",
              "}\n",
              "\n",
              "/* \"?\"-specific style due to the `<a>` HTML tag */\n",
              "\n",
              "#sk-container-id-2 a.estimator_doc_link {\n",
              "  float: right;\n",
              "  font-size: 1rem;\n",
              "  line-height: 1em;\n",
              "  font-family: monospace;\n",
              "  background-color: var(--sklearn-color-background);\n",
              "  border-radius: 1rem;\n",
              "  height: 1rem;\n",
              "  width: 1rem;\n",
              "  text-decoration: none;\n",
              "  /* unfitted */\n",
              "  color: var(--sklearn-color-unfitted-level-1);\n",
              "  border: var(--sklearn-color-unfitted-level-1) 1pt solid;\n",
              "}\n",
              "\n",
              "#sk-container-id-2 a.estimator_doc_link.fitted {\n",
              "  /* fitted */\n",
              "  border: var(--sklearn-color-fitted-level-1) 1pt solid;\n",
              "  color: var(--sklearn-color-fitted-level-1);\n",
              "}\n",
              "\n",
              "/* On hover */\n",
              "#sk-container-id-2 a.estimator_doc_link:hover {\n",
              "  /* unfitted */\n",
              "  background-color: var(--sklearn-color-unfitted-level-3);\n",
              "  color: var(--sklearn-color-background);\n",
              "  text-decoration: none;\n",
              "}\n",
              "\n",
              "#sk-container-id-2 a.estimator_doc_link.fitted:hover {\n",
              "  /* fitted */\n",
              "  background-color: var(--sklearn-color-fitted-level-3);\n",
              "}\n",
              "</style><div id=\"sk-container-id-2\" class=\"sk-top-container\"><div class=\"sk-text-repr-fallback\"><pre>LogisticRegression(multi_class=&#x27;ovr&#x27;)</pre><b>In a Jupyter environment, please rerun this cell to show the HTML representation or trust the notebook. <br />On GitHub, the HTML representation is unable to render, please try loading this page with nbviewer.org.</b></div><div class=\"sk-container\" hidden><div class=\"sk-item\"><div class=\"sk-estimator fitted sk-toggleable\"><input class=\"sk-toggleable__control sk-hidden--visually\" id=\"sk-estimator-id-2\" type=\"checkbox\" checked><label for=\"sk-estimator-id-2\" class=\"sk-toggleable__label fitted sk-toggleable__label-arrow fitted\">&nbsp;&nbsp;LogisticRegression<a class=\"sk-estimator-doc-link fitted\" rel=\"noreferrer\" target=\"_blank\" href=\"https://scikit-learn.org/1.5/modules/generated/sklearn.linear_model.LogisticRegression.html\">?<span>Documentation for LogisticRegression</span></a><span class=\"sk-estimator-doc-link fitted\">i<span>Fitted</span></span></label><div class=\"sk-toggleable__content fitted\"><pre>LogisticRegression(multi_class=&#x27;ovr&#x27;)</pre></div> </div></div></div></div>"
            ]
          },
          "metadata": {},
          "execution_count": 17
        }
      ]
    },
    {
      "cell_type": "code",
      "source": [
        "y_reglog = clf.predict(x_test)\n",
        "y_reglog"
      ],
      "metadata": {
        "colab": {
          "base_uri": "https://localhost:8080/"
        },
        "id": "i9Andw4eEuZa",
        "outputId": "0b34ded1-ecaa-40e4-8a09-2d0738bbedb0"
      },
      "execution_count": null,
      "outputs": [
        {
          "output_type": "execute_result",
          "data": {
            "text/plain": [
              "array([2, 2, 2, 2, 1, 2, 2, 2, 2, 2, 2, 2, 2, 2, 0, 0, 2, 2, 2, 2, 0, 2,\n",
              "       0, 2, 2, 2, 2, 2, 0, 2, 2, 2, 2, 0, 2, 2, 0, 2, 2, 2, 0, 2, 2, 2,\n",
              "       2, 0, 0, 2, 2, 2, 2, 0, 2, 2, 2, 0, 0, 2, 2, 0, 2, 2, 2, 2, 2, 2,\n",
              "       2, 2, 0, 2, 1, 2, 0, 2, 1, 2, 2, 2, 2, 2, 0, 2, 2, 0, 1, 2, 0, 0,\n",
              "       0, 2, 2, 0, 0, 2, 2, 0, 2, 2, 0, 2, 2, 2, 0, 1, 2, 2, 2, 2, 0, 2,\n",
              "       2, 0, 2, 2, 2, 2, 2, 2, 0, 2, 2, 0, 2, 0, 0, 0, 2, 0, 2, 2, 2, 1,\n",
              "       0, 2, 0, 2, 0, 0, 0, 2, 2, 2, 2, 2, 2, 2, 2, 2, 2, 0, 2, 2, 2, 0,\n",
              "       2, 2, 0, 2, 2, 2, 2, 2, 2, 2, 0, 2, 2, 0, 2, 0, 2, 0, 2, 2, 2, 0,\n",
              "       2, 2, 1, 2, 2, 2, 0, 2, 2, 2, 2, 2, 2, 0, 2, 2, 0, 2, 2, 2, 2, 2,\n",
              "       0, 2, 0, 0, 2, 0, 2, 0, 2, 0, 0, 2, 2, 2, 0, 0, 2, 2, 0, 2, 0, 2,\n",
              "       2, 2, 2, 2, 0, 2, 0, 0, 1, 2, 2, 2, 0, 1, 2, 2, 2, 2, 0, 2, 2, 0,\n",
              "       0, 1, 0, 2, 2, 0, 0, 2, 2, 2, 2, 2, 2, 2, 0, 2, 0, 2, 2, 2, 2, 2,\n",
              "       2, 2, 2, 0, 2, 2, 2, 0, 0, 2, 0, 2, 0, 2, 2, 2, 2, 2, 0, 2, 2, 0,\n",
              "       2, 0, 2, 2, 2, 2, 2, 0, 2, 2, 2, 2, 2, 1, 2, 2, 2, 0, 2, 0, 0, 2,\n",
              "       2, 2, 2, 2, 2, 2, 2, 2, 0, 2, 0, 2, 0, 2, 2, 0, 2, 2, 0, 2, 2, 2,\n",
              "       2, 2, 2, 1, 0, 0, 2, 0, 2, 0, 0, 2, 2, 0, 2, 2, 2, 2, 0, 0, 2, 0,\n",
              "       2, 2, 0, 0, 2, 2, 2, 2, 2, 2, 2, 0, 2, 1, 0, 0, 0, 2, 2, 0, 0, 2,\n",
              "       0, 2, 2, 2, 2, 2, 2, 0, 2, 2, 2, 2, 2, 0, 2, 0, 1, 0, 0, 2, 2, 2,\n",
              "       0, 0, 2, 2, 2, 2, 2, 2, 2, 0, 1, 2, 2, 2, 0, 2, 1, 2, 0, 2, 1, 2,\n",
              "       2, 2, 2, 2, 2, 0, 0, 1, 2, 0, 2, 0, 0, 2, 2, 0, 0, 2, 0, 2, 2, 2,\n",
              "       0, 0, 2, 2, 0, 0, 2, 0, 0, 0, 2, 0, 2, 0, 0, 0, 2, 0, 0, 2, 2, 0,\n",
              "       2, 0, 0, 2, 0, 1, 2, 2, 2, 0, 2, 2, 0, 2, 0, 2, 0, 0, 2, 2, 2, 0,\n",
              "       2, 2, 2, 2, 0, 2, 0, 0, 2, 2, 0, 0, 2, 2, 2, 2, 2, 2, 2, 2, 2, 2,\n",
              "       2, 0, 2, 2, 0, 2, 2, 2, 2, 2, 2, 2, 2, 2, 2, 2, 0, 0, 2, 0, 2, 2,\n",
              "       2, 0, 2, 2, 0, 2, 2, 2, 2, 2, 0, 2, 2, 2, 0, 0, 2, 2, 2, 2, 0, 0,\n",
              "       2, 0, 2, 0, 2, 2, 2, 2, 2, 2, 2, 2, 2, 2, 2, 2, 2, 2, 2, 2, 2, 1,\n",
              "       2, 2, 2, 2, 0, 2, 0, 0, 2, 0, 0, 2, 2, 2, 2, 2, 2, 0, 0, 2, 2, 0,\n",
              "       2, 0, 0, 2, 0, 0, 2, 2, 2, 2, 2, 0, 2, 2, 2, 0, 2, 2, 0, 0, 2, 2,\n",
              "       0, 2, 2, 0, 0, 2, 0, 2, 2, 2, 0, 2, 2, 2, 2, 2, 2, 2, 2, 2, 0, 2,\n",
              "       2, 2, 2, 2, 2, 0, 0, 2, 2, 2, 2, 2, 0, 2, 2, 2, 2, 2, 0, 0, 2, 2,\n",
              "       2, 0, 2, 2, 2, 0, 2, 0, 0, 0, 2, 1, 2, 2, 0, 2, 2, 2, 0, 2, 2, 0,\n",
              "       2, 2, 0, 2, 2, 2, 2, 2, 2, 2, 2, 0, 0, 0, 2, 2, 2, 0, 2, 2, 1, 2,\n",
              "       0, 0, 2, 2, 0, 0, 0, 2, 1, 2, 2, 2, 0, 1, 2, 2, 0, 2, 2, 2, 1, 2,\n",
              "       0, 2, 2, 2, 2, 2, 2, 0, 2, 0, 0, 2, 2, 2, 0, 0, 2, 2, 2, 0, 0, 2,\n",
              "       2, 0, 0, 2, 0, 2, 2, 2, 2, 2, 0, 0, 0, 2, 2, 2, 0, 0, 2, 2, 2, 2,\n",
              "       2, 1, 2, 2, 2, 0, 2, 0, 0, 0, 0, 2, 2, 0, 2, 0, 0, 2, 2, 2, 2, 2,\n",
              "       2, 2, 0, 0, 0, 0, 0, 2, 2, 2, 2, 2, 2, 0, 0, 0, 2, 2, 0, 2, 2, 1,\n",
              "       2, 2, 1, 2, 2, 2, 0, 2, 1, 2, 0, 2, 2, 2, 2, 2, 0, 2, 0, 2, 0, 2,\n",
              "       0, 2, 2, 2, 2, 2, 2, 2, 0, 0, 2, 0, 2, 2, 0, 2, 0, 1, 0, 2, 2, 0,\n",
              "       2, 2, 2, 2, 2, 2, 1, 1, 2, 2, 2, 2, 0, 0, 0, 0, 0, 2, 0, 2, 2, 2,\n",
              "       2, 2, 0, 2, 0])"
            ]
          },
          "metadata": {},
          "execution_count": 18
        }
      ]
    },
    {
      "cell_type": "code",
      "source": [
        "from sklearn.metrics import accuracy_score\n",
        "\n",
        "accuracy_score(y_test, y_reglog)"
      ],
      "metadata": {
        "colab": {
          "base_uri": "https://localhost:8080/"
        },
        "id": "RaNWoAMyEuwc",
        "outputId": "1de32fe6-5097-437e-86cc-312a6b812f6c"
      },
      "execution_count": null,
      "outputs": [
        {
          "output_type": "execute_result",
          "data": {
            "text/plain": [
              "0.6836158192090396"
            ]
          },
          "metadata": {},
          "execution_count": 19
        }
      ]
    },
    {
      "cell_type": "code",
      "source": [
        "from sklearn.metrics import precision_score, recall_score, f1_score\n",
        "\n",
        "# Specify the positive label as 'Graduate'\n",
        "print('presisi  = ', precision_score(y_test, y_reglog, average='weighted'))\n",
        "print('Recall   = ', recall_score(y_test, y_reglog, average='weighted'))\n",
        "print('f1_score = ', f1_score(y_test, y_reglog, average='weighted'))"
      ],
      "metadata": {
        "colab": {
          "base_uri": "https://localhost:8080/"
        },
        "id": "BfWAGhOEEuzd",
        "outputId": "0819e771-695a-4196-dc7c-9e433a759a7d"
      },
      "execution_count": null,
      "outputs": [
        {
          "output_type": "stream",
          "name": "stdout",
          "text": [
            "presisi  =  0.6568659877338668\n",
            "Recall   =  0.6836158192090396\n",
            "f1_score =  0.6374882384193984\n"
          ]
        }
      ]
    },
    {
      "cell_type": "code",
      "source": [
        "from sklearn.metrics import confusion_matrix, classification_report\n",
        "\n",
        "print(confusion_matrix(y_test, y_reglog))\n",
        "print(classification_report(y_test, y_reglog))"
      ],
      "metadata": {
        "colab": {
          "base_uri": "https://localhost:8080/"
        },
        "id": "VwkScBbqE6RT",
        "outputId": "8661935c-e52f-4b36-e8f3-474594186197"
      },
      "execution_count": null,
      "outputs": [
        {
          "output_type": "stream",
          "name": "stdout",
          "text": [
            "[[191  11  77]\n",
            " [ 39  16 109]\n",
            " [ 39   5 398]]\n",
            "              precision    recall  f1-score   support\n",
            "\n",
            "           0       0.71      0.68      0.70       279\n",
            "           1       0.50      0.10      0.16       164\n",
            "           2       0.68      0.90      0.78       442\n",
            "\n",
            "    accuracy                           0.68       885\n",
            "   macro avg       0.63      0.56      0.55       885\n",
            "weighted avg       0.66      0.68      0.64       885\n",
            "\n"
          ]
        }
      ]
    },
    {
      "cell_type": "code",
      "source": [
        "from sklearn.model_selection import cross_val_score\n",
        "import time\n",
        "\n",
        "mulai = time.time()\n",
        "scores_regLog = cross_val_score(clf, x_train, y_train, cv=10)\n",
        "waktu = time.time() - mulai\n",
        "# Interval Akurasi 95 CI\n",
        "print(\"Accuracy Regresi Logistik: %0.2f (+/- %0.2f), Waktu = %0.3f detik\" % (scores_regLog.mean(), scores_regLog.std() * 2, waktu))"
      ],
      "metadata": {
        "colab": {
          "base_uri": "https://localhost:8080/"
        },
        "id": "wAP-meoRE6Uz",
        "outputId": "2c792ccb-a80f-4d3f-d056-a7041879f9c3"
      },
      "execution_count": null,
      "outputs": [
        {
          "output_type": "stream",
          "name": "stdout",
          "text": [
            "Accuracy Regresi Logistik: 0.70 (+/- 0.03), Waktu = 12.091 detik\n"
          ]
        }
      ]
    },
    {
      "cell_type": "code",
      "source": [
        "%matplotlib inline\n",
        "import matplotlib.pyplot as plt; plt.style.use('classic')\n",
        "import seaborn as sns; sns.set()\n",
        "\n",
        "df = pd.DataFrame({'Regresi Logistik':scores_regLog})\n",
        "sns.boxplot(data=df)\n",
        "plt.show()"
      ],
      "metadata": {
        "colab": {
          "base_uri": "https://localhost:8080/"
        },
        "id": "g7NRGyFgFOwy",
        "outputId": "f921b37b-5bf8-420c-cc7f-b2e6eb53e412"
      },
      "execution_count": null,
      "outputs": [
        {
          "output_type": "display_data",
          "data": {
            "text/plain": [
              "<Figure size 640x480 with 1 Axes>"
            ],
            "image/png": "[encoded data removed]"
          },
          "metadata": {}
        }
      ]
    },
    {
      "cell_type": "markdown",
      "source": [
        "##<font color=\"FEEB99\"> **Naive Bayes**\n",
        "\n",
        "Disusun oleh : Fauzan Adzhima Alamsyah (1906376804)"
      ],
      "metadata": {
        "id": "TP7e81SbDR6P"
      }
    },
    {
      "cell_type": "code",
      "source": [
        "from sklearn.naive_bayes import GaussianNB\n",
        "\n",
        "gnb = GaussianNB()\n",
        "nbc = gnb.fit(x_train, y_train)\n",
        "nbc_prediction = nbc.predict(x_test)"
      ],
      "metadata": {
        "id": "bNywlcabC1Qo"
      },
      "execution_count": null,
      "outputs": []
    },
    {
      "cell_type": "code",
      "source": [
        "print('Akurasi = ', accuracy_score(y_test, nbc_prediction))\n",
        "print(confusion_matrix(y_test, nbc_prediction))\n",
        "print(classification_report(y_test, nbc_prediction))"
      ],
      "metadata": {
        "id": "m2JmoEJyC0lF",
        "colab": {
          "base_uri": "https://localhost:8080/"
        },
        "outputId": "26b84039-ba8d-4588-bcde-cb3e42075504"
      },
      "execution_count": null,
      "outputs": [
        {
          "output_type": "stream",
          "name": "stdout",
          "text": [
            "Akurasi =  0.672316384180791\n",
            "[[182  36  61]\n",
            " [ 27  43  94]\n",
            " [ 37  35 370]]\n",
            "              precision    recall  f1-score   support\n",
            "\n",
            "           0       0.74      0.65      0.69       279\n",
            "           1       0.38      0.26      0.31       164\n",
            "           2       0.70      0.84      0.77       442\n",
            "\n",
            "    accuracy                           0.67       885\n",
            "   macro avg       0.61      0.58      0.59       885\n",
            "weighted avg       0.66      0.67      0.66       885\n",
            "\n"
          ]
        }
      ]
    },
    {
      "cell_type": "code",
      "source": [
        "from sklearn.model_selection import cross_val_score\n",
        "import time\n",
        "\n",
        "mulai = time.time()\n",
        "scores_nb = cross_val_score(nbc, x_train, y_train, cv=10)\n",
        "waktu = time.time() - mulai\n",
        "# Interval Akurasi 95 CI\n",
        "print(\"Accuracy Naive Bayes: %0.2f (+/- %0.2f), Waktu = %0.3f detik\" % (scores_nb.mean(), scores_nb.std() * 2, waktu))"
      ],
      "metadata": {
        "colab": {
          "base_uri": "https://localhost:8080/"
        },
        "id": "qFbpJv98H4Ew",
        "outputId": "ade66dbb-7703-4d49-b73f-6a5114c225d7"
      },
      "execution_count": null,
      "outputs": [
        {
          "output_type": "stream",
          "name": "stdout",
          "text": [
            "Accuracy Naive Bayes: 0.69 (+/- 0.04), Waktu = 0.346 detik\n"
          ]
        }
      ]
    },
    {
      "cell_type": "code",
      "source": [
        "%matplotlib inline\n",
        "import matplotlib.pyplot as plt; plt.style.use('classic')\n",
        "import seaborn as sns; sns.set()\n",
        "\n",
        "df = pd.DataFrame({'Naive Bayes':scores_nb})\n",
        "sns.boxplot(data=df)\n",
        "plt.show()"
      ],
      "metadata": {
        "colab": {
          "base_uri": "https://localhost:8080/",
          "height": 447
        },
        "id": "O48teAa0H4Ii",
        "outputId": "369d3e37-3d96-452d-b544-376d575bf33f"
      },
      "execution_count": null,
      "outputs": [
        {
          "output_type": "display_data",
          "data": {
            "text/plain": [
              "<Figure size 640x480 with 1 Axes>"
            ],
            "image/png": "[encoded data removed]"
          },
          "metadata": {}
        }
      ]
    },
    {
      "cell_type": "code",
      "source": [],
      "metadata": {
        "id": "ZqwaWQ7QH4K9"
      },
      "execution_count": null,
      "outputs": []
    },
    {
      "cell_type": "markdown",
      "source": [
        "##<font color=\"FEEB99\">**Decision Tree**"
      ],
      "metadata": {
        "id": "vyeMX7RLael1"
      }
    },
    {
      "cell_type": "code",
      "source": [
        "DT = tree.DecisionTreeClassifier()\n",
        "DT = DT.fit(x_train, y_train)\n",
        "y_DT1 = DT.predict(x_test)\n",
        "\n",
        "print(confusion_matrix(y_test, y_DT1))\n",
        "print(classification_report(y_test, y_DT1))"
      ],
      "metadata": {
        "colab": {
          "base_uri": "https://localhost:8080/"
        },
        "id": "Y-H_fIf8bsf0",
        "outputId": "33ab224e-f683-49f6-949f-ca9d127786c2"
      },
      "execution_count": null,
      "outputs": [
        {
          "output_type": "stream",
          "name": "stdout",
          "text": [
            "[[188  50  41]\n",
            " [ 39  67  58]\n",
            " [ 44  56 342]]\n",
            "              precision    recall  f1-score   support\n",
            "\n",
            "           0       0.69      0.67      0.68       279\n",
            "           1       0.39      0.41      0.40       164\n",
            "           2       0.78      0.77      0.77       442\n",
            "\n",
            "    accuracy                           0.67       885\n",
            "   macro avg       0.62      0.62      0.62       885\n",
            "weighted avg       0.68      0.67      0.68       885\n",
            "\n"
          ]
        }
      ]
    },
    {
      "cell_type": "code",
      "source": [
        "# Varible importance - Salah satu kelebihan Decision Tree\n",
        "DT.feature_importances_"
      ],
      "metadata": {
        "colab": {
          "base_uri": "https://localhost:8080/"
        },
        "id": "ZbXfCuejbtJv",
        "outputId": "7020305a-d873-4845-bb71-dd8977bde45b"
      },
      "execution_count": null,
      "outputs": [
        {
          "output_type": "execute_result",
          "data": {
            "text/plain": [
              "array([0.00356935, 0.02017273, 0.01498431, 0.03009875, 0.        ,\n",
              "       0.00355634, 0.0402433 , 0.001655  , 0.01724373, 0.01838568,\n",
              "       0.03084628, 0.02558359, 0.05247941, 0.00858211, 0.0007864 ,\n",
              "       0.00469114, 0.05216354, 0.00522877, 0.00722828, 0.0385883 ,\n",
              "       0.        , 0.00209706, 0.0124005 , 0.02958488, 0.03191057,\n",
              "       0.04127888, 0.00573152, 0.00282933, 0.03609107, 0.02727539,\n",
              "       0.34185598, 0.03495951, 0.00437679, 0.01658186, 0.01835332,\n",
              "       0.01858633])"
            ]
          },
          "metadata": {},
          "execution_count": 29
        }
      ]
    },
    {
      "cell_type": "code",
      "source": [
        "clf = tree.DecisionTreeClassifier(random_state=0)\n",
        "clf = clf.fit(x_train, y_train)\n",
        "p = tree.plot_tree(clf)"
      ],
      "metadata": {
        "colab": {
          "base_uri": "https://localhost:8080/",
          "height": 417
        },
        "id": "7jACSL3YbubY",
        "outputId": "77af926e-c35f-4bda-862d-afaba180e1cd"
      },
      "execution_count": null,
      "outputs": [
        {
          "output_type": "display_data",
          "data": {
            "text/plain": [
              "<Figure size 640x480 with 1 Axes>"
            ],
            "image/png": "[encoded data removed]"
          },
          "metadata": {}
        }
      ]
    },
    {
      "cell_type": "markdown",
      "source": [
        "##<font color=\"FEEB99\">**Random Forest**"
      ],
      "metadata": {
        "id": "41_PpOlcaliu"
      }
    },
    {
      "cell_type": "code",
      "source": [
        "rf = RandomForestClassifier()\n",
        "rf.fit(x_train, y_train)\n",
        "y_rf1 = rf.predict(x_test)\n",
        "\n",
        "print(confusion_matrix(y_test, y_rf1))\n",
        "print(classification_report(y_test, y_rf1))"
      ],
      "metadata": {
        "colab": {
          "base_uri": "https://localhost:8080/"
        },
        "id": "rHv7p2HVxiI_",
        "outputId": "ba60a055-82c0-4f16-dc3a-c06e9be5791a"
      },
      "execution_count": null,
      "outputs": [
        {
          "output_type": "stream",
          "name": "stdout",
          "text": [
            "[[215  21  43]\n",
            " [ 31  56  77]\n",
            " [ 15  13 414]]\n",
            "              precision    recall  f1-score   support\n",
            "\n",
            "           0       0.82      0.77      0.80       279\n",
            "           1       0.62      0.34      0.44       164\n",
            "           2       0.78      0.94      0.85       442\n",
            "\n",
            "    accuracy                           0.77       885\n",
            "   macro avg       0.74      0.68      0.70       885\n",
            "weighted avg       0.76      0.77      0.76       885\n",
            "\n"
          ]
        }
      ]
    },
    {
      "cell_type": "code",
      "source": [
        "# Varible importance\n",
        "importances = rf.feature_importances_\n",
        "std = np.std([tree.feature_importances_ for tree in rf.estimators_], axis=0)\n",
        "indices = np.argsort(importances)[::-1]\n",
        "\n",
        "# Print the feature ranking\n",
        "print(\"Feature ranking:\")\n",
        "for f in range(X.shape[1]):\n",
        "    print(\"%d. feature %d (%f)\" % (f + 1, indices[f], importances[indices[f]]))\n",
        "\n",
        "# Plot the feature importances of the forest\n",
        "plt.figure()\n",
        "plt.title(\"Feature importances\")\n",
        "plt.bar(range(X.shape[1]), importances[indices],color=\"r\", yerr=std[indices], align=\"center\")\n",
        "plt.xticks(range(X.shape[1]), indices)\n",
        "plt.xlim([-1, X.shape[1]])\n",
        "plt.show()"
      ],
      "metadata": {
        "colab": {
          "base_uri": "https://localhost:8080/",
          "height": 1000
        },
        "id": "2LjoXzUixtjU",
        "outputId": "a03b32b0-249f-471f-cd40-b9fb729bbdd0"
      },
      "execution_count": null,
      "outputs": [
        {
          "output_type": "stream",
          "name": "stdout",
          "text": [
            "Feature ranking:\n",
            "1. feature 30 (0.141410)\n",
            "2. feature 24 (0.104984)\n",
            "3. feature 31 (0.100160)\n",
            "4. feature 25 (0.060229)\n",
            "5. feature 12 (0.043629)\n",
            "6. feature 29 (0.041080)\n",
            "7. feature 16 (0.039773)\n",
            "8. feature 19 (0.039352)\n",
            "9. feature 6 (0.037417)\n",
            "10. feature 23 (0.035696)\n",
            "11. feature 3 (0.031979)\n",
            "12. feature 11 (0.027169)\n",
            "13. feature 10 (0.024828)\n",
            "14. feature 35 (0.023910)\n",
            "15. feature 33 (0.023094)\n",
            "16. feature 9 (0.021714)\n",
            "17. feature 1 (0.021638)\n",
            "18. feature 28 (0.021616)\n",
            "19. feature 34 (0.020614)\n",
            "20. feature 8 (0.020566)\n",
            "21. feature 22 (0.018304)\n",
            "22. feature 2 (0.013935)\n",
            "23. feature 18 (0.013666)\n",
            "24. feature 15 (0.012133)\n",
            "25. feature 17 (0.010689)\n",
            "26. feature 13 (0.008474)\n",
            "27. feature 21 (0.007087)\n",
            "28. feature 5 (0.006457)\n",
            "29. feature 26 (0.005592)\n",
            "30. feature 27 (0.005566)\n",
            "31. feature 32 (0.005492)\n",
            "32. feature 0 (0.004007)\n",
            "33. feature 4 (0.002728)\n",
            "34. feature 7 (0.002543)\n",
            "35. feature 20 (0.001479)\n",
            "36. feature 14 (0.000991)\n"
          ]
        },
        {
          "output_type": "display_data",
          "data": {
            "text/plain": [
              "<Figure size 640x480 with 1 Axes>"
            ],
            "image/png": "[encoded data removed]"
          },
          "metadata": {}
        }
      ]
    },
    {
      "cell_type": "markdown",
      "source": [
        "##<font color=\"FEEB99\">**SVM**"
      ],
      "metadata": {
        "id": "BUnRGJfiaqmj"
      }
    },
    {
      "cell_type": "code",
      "source": [
        "# Fitting and evaluate the model\n",
        "dSVM = svm.SVC(C = 10**5, kernel = 'linear') # Misal menggunakan kernel Linear\n",
        "\n",
        "dSVM.fit(x_train, y_train)\n",
        "y_SVM1 = dSVM.predict(x_test)\n",
        "\n",
        "print(confusion_matrix(y_test, y_SVM1))\n",
        "print(classification_report(y_test, y_SVM1))"
      ],
      "metadata": {
        "colab": {
          "base_uri": "https://localhost:8080/"
        },
        "id": "lJ-hhXA-67sV",
        "outputId": "7a0f49e9-306b-426c-8076-9ef8be9be6e8"
      },
      "execution_count": null,
      "outputs": [
        {
          "output_type": "stream",
          "name": "stdout",
          "text": [
            "[[209  27  43]\n",
            " [ 42  48  74]\n",
            " [ 15  23 404]]\n",
            "              precision    recall  f1-score   support\n",
            "\n",
            "           0       0.79      0.75      0.77       279\n",
            "           1       0.49      0.29      0.37       164\n",
            "           2       0.78      0.91      0.84       442\n",
            "\n",
            "    accuracy                           0.75       885\n",
            "   macro avg       0.68      0.65      0.66       885\n",
            "weighted avg       0.73      0.75      0.73       885\n",
            "\n"
          ]
        }
      ]
    },
    {
      "cell_type": "code",
      "source": [
        "# The Support Vectors\n",
        "print('index dr SV-nya: ', dSVM.support_)\n",
        "print('Vector Datanya: \\n', dSVM.support_vectors_)"
      ],
      "metadata": {
        "colab": {
          "base_uri": "https://localhost:8080/"
        },
        "id": "iyPr24bQ7MFC",
        "outputId": "309ad67e-38bb-4095-c5e9-8af26e5bfa9e"
      },
      "execution_count": null,
      "outputs": [
        {
          "output_type": "stream",
          "name": "stdout",
          "text": [
            "index dr SV-nya:  [  18   24   34 ... 3526 3528 3531]\n",
            "Vector Datanya: \n",
            " [[ 1.    1.    1.   ...  7.6   2.6   0.32]\n",
            " [ 1.   17.    1.   ...  9.4  -0.8  -3.12]\n",
            " [ 1.    1.    1.   ... 13.9  -0.3   0.79]\n",
            " ...\n",
            " [ 1.    1.    1.   ...  9.4  -0.8  -3.12]\n",
            " [ 1.    1.    3.   ... 13.9  -0.3   0.79]\n",
            " [ 1.   39.    1.   ...  7.6   2.6   0.32]]\n"
          ]
        }
      ]
    },
    {
      "cell_type": "code",
      "source": [
        "# Model Weights for interpretations\n",
        "print('w = ',dSVM.coef_)\n",
        "print('b = ',dSVM.intercept_)"
      ],
      "metadata": {
        "colab": {
          "base_uri": "https://localhost:8080/"
        },
        "id": "oHDVFy2P7Nkx",
        "outputId": "6a975b21-18f5-4d49-cc2a-25aa3b92bd56"
      },
      "execution_count": null,
      "outputs": [
        {
          "output_type": "stream",
          "name": "stdout",
          "text": [
            "w =  [[-5.21029707e+05  5.08954834e+01  4.78716022e+05  5.88272461e+02\n",
            "   4.36775323e+05 -2.19075881e+04  1.71828584e+04  3.84188480e+04\n",
            "   2.10654936e+04 -9.23708345e+02 -4.38698523e+03 -3.99245137e+04\n",
            "  -2.91271204e+04  5.92239379e+05  0.00000000e+00  1.43111427e+06\n",
            "  -3.16493212e+06  5.74595974e+05 -4.92318515e+05  2.77453404e+05\n",
            "  -3.11539529e+05  5.04220013e+05  8.79829605e+04 -3.43953979e+05\n",
            "  -3.29226625e+05  2.17262692e+05  3.76706786e+04  6.85478918e+05\n",
            "   9.36469183e+05 -1.03625192e+05 -1.23715217e+06 -4.35624160e+05\n",
            "  -4.58000126e+05  4.37253494e+05  2.55070663e+04  1.12164613e+04]\n",
            " [-7.28942151e+05  2.88808539e+04  2.42629342e+05  1.13515369e+03\n",
            "  -5.57578382e+04 -4.09547159e+04  2.21677891e+04  2.52906706e+04\n",
            "   9.45155654e+03 -4.00573001e+04 -5.58605819e+04  2.41859302e+04\n",
            "  -3.00731877e+03  7.96994724e+03 -2.00000000e+05  2.25575119e+06\n",
            "  -3.24803781e+06  1.23095200e+06 -7.01828954e+05  1.25508351e+05\n",
            "  -4.26656025e+05  7.55170129e+05  1.05046943e+06 -2.81057870e+04\n",
            "  -2.03112086e+06  3.56876611e+05 -3.18965356e+05  4.93898475e+05\n",
            "   1.35272592e+06  1.43142229e+05 -2.60928002e+06 -9.06229486e+05\n",
            "   2.95334065e+05  1.27229226e+05 -1.86392868e+05  6.18536243e+04]\n",
            " [ 4.18114540e+05  7.22596794e+04 -2.11690293e+05  9.24805908e+01\n",
            "   5.06658475e+05 -7.82792511e+04  9.16493040e+03  3.62253146e+04\n",
            "  -3.98353544e+03  1.40379974e+03 -4.74576279e+04  6.30675550e+04\n",
            "  -3.18540917e+04 -5.00796756e+05 -3.00000000e+05  8.73462618e+05\n",
            "  -1.50000000e+06  4.92994743e+05 -8.52534722e+05 -8.56776004e+03\n",
            "   3.01519547e+04  1.30177977e+04  8.82405416e+05  2.95677346e+05\n",
            "  -2.13591129e+06  3.29801269e+05 -7.55242133e+05 -3.84400214e+05\n",
            "   1.69157143e+06  5.09019561e+05 -2.38843452e+06 -7.12620401e+05\n",
            "   2.07489835e+05  5.05038464e+04 -5.07884960e+04  1.71516608e+05]]\n",
            "b =  [-7390226.2357774  -3366105.68425159  3592395.85433122]\n"
          ]
        }
      ]
    },
    {
      "cell_type": "markdown",
      "source": [
        "##<font color=\"FEEB99\">**Cross Validation**"
      ],
      "metadata": {
        "id": "ljBNmMYGatyr"
      }
    },
    {
      "cell_type": "markdown",
      "source": [
        "###**kNN**"
      ],
      "metadata": {
        "id": "t0g28wEIwWkq"
      }
    },
    {
      "cell_type": "code",
      "source": [
        "# Cross validation\n",
        "# Perhatikan variabelnya, kita sekarang menggunakan seluruh data\n",
        "# namun sebaiknya hanya Train data (jika datanya cukup besar)\n",
        "kNN = neighbors.KNeighborsClassifier(n_neighbors, weights=weights)\n",
        "mulai = time.time()\n",
        "scores_kNN = cross_val_score(kNN, X, y, cv=10)\n",
        "waktu = time.time() - mulai\n",
        "# Interval Akurasi 95 CI\n",
        "print(\"Accuracy k-NN: %0.2f (+/- %0.2f), Waktu = %0.3f detik\" % (scores_kNN.mean(), scores_kNN.std() * 2, waktu))"
      ],
      "metadata": {
        "colab": {
          "base_uri": "https://localhost:8080/"
        },
        "id": "KcqQVnAPv5T7",
        "outputId": "6c4cc7b3-5642-4188-c7be-3223736963f6"
      },
      "execution_count": null,
      "outputs": [
        {
          "output_type": "stream",
          "name": "stdout",
          "text": [
            "Accuracy k-NN: 0.60 (+/- 0.03), Waktu = 0.299 detik\n"
          ]
        }
      ]
    },
    {
      "cell_type": "code",
      "source": [
        "# Visualisasi untuk mengevaluasi model dengan lebih baik lagi\n",
        "df_ = pd.DataFrame({'kNN': scores_kNN})\n",
        "p = sns.boxplot(data = df_)\n",
        "min(scores_kNN)"
      ],
      "metadata": {
        "colab": {
          "base_uri": "https://localhost:8080/",
          "height": 464
        },
        "id": "X27xJZoLwCz_",
        "outputId": "e9747d87-8147-40f4-999c-8351a34c69d1"
      },
      "execution_count": null,
      "outputs": [
        {
          "output_type": "execute_result",
          "data": {
            "text/plain": [
              "0.5656108597285068"
            ]
          },
          "metadata": {},
          "execution_count": 37
        },
        {
          "output_type": "display_data",
          "data": {
            "text/plain": [
              "<Figure size 640x480 with 1 Axes>"
            ],
            "image/png": "[encoded data removed]"
          },
          "metadata": {}
        }
      ]
    },
    {
      "cell_type": "markdown",
      "source": [
        "###**Regresi Logistik**"
      ],
      "metadata": {
        "id": "SoIIxjQrwYmS"
      }
    },
    {
      "cell_type": "code",
      "source": [
        "mulai = time.time()\n",
        "scores_regLog = cross_val_score(clf, X, y, cv=10) # perhatikan sekarang kita menggunakan seluruh data\n",
        "waktu = time.time() - mulai\n",
        "print(\"Accuracy Regresi Logistik: %0.2f (+/- %0.2f), Waktu = %0.3f detik\" % (scores_regLog.mean(), scores_regLog.std() * 2, waktu))"
      ],
      "metadata": {
        "colab": {
          "base_uri": "https://localhost:8080/"
        },
        "id": "SROKDa8awbzH",
        "outputId": "3d2d8be6-5dc6-49b7-df24-3d611990e3b9"
      },
      "execution_count": null,
      "outputs": [
        {
          "output_type": "stream",
          "name": "stdout",
          "text": [
            "Accuracy Regresi Logistik: 0.68 (+/- 0.04), Waktu = 1.081 detik\n"
          ]
        }
      ]
    },
    {
      "cell_type": "code",
      "source": [
        "# Visualisasi untuk mengevaluasi & membandingkan model dengan lebih baik lagi\n",
        "df_ = pd.DataFrame({'kNN': scores_kNN, 'RegLog': scores_regLog})\n",
        "p = sns.boxplot(data = df_)\n",
        "df_.min()"
      ],
      "metadata": {
        "colab": {
          "base_uri": "https://localhost:8080/",
          "height": 577
        },
        "id": "RRgJL7Jwwgl0",
        "outputId": "d8518c8f-97b6-4566-f95f-a8a0eb835812"
      },
      "execution_count": null,
      "outputs": [
        {
          "output_type": "execute_result",
          "data": {
            "text/plain": [
              "kNN       0.565611\n",
              "RegLog    0.645598\n",
              "dtype: float64"
            ],
            "text/html": [
              "<div>\n",
              "<style scoped>\n",
              "    .dataframe tbody tr th:only-of-type {\n",
              "        vertical-align: middle;\n",
              "    }\n",
              "\n",
              "    .dataframe tbody tr th {\n",
              "        vertical-align: top;\n",
              "    }\n",
              "\n",
              "    .dataframe thead th {\n",
              "        text-align: right;\n",
              "    }\n",
              "</style>\n",
              "<table border=\"1\" class=\"dataframe\">\n",
              "  <thead>\n",
              "    <tr style=\"text-align: right;\">\n",
              "      <th></th>\n",
              "      <th>0</th>\n",
              "    </tr>\n",
              "  </thead>\n",
              "  <tbody>\n",
              "    <tr>\n",
              "      <th>kNN</th>\n",
              "      <td>0.565611</td>\n",
              "    </tr>\n",
              "    <tr>\n",
              "      <th>RegLog</th>\n",
              "      <td>0.645598</td>\n",
              "    </tr>\n",
              "  </tbody>\n",
              "</table>\n",
              "</div><br><label><b>dtype:</b> float64</label>"
            ]
          },
          "metadata": {},
          "execution_count": 39
        },
        {
          "output_type": "display_data",
          "data": {
            "text/plain": [
              "<Figure size 640x480 with 1 Axes>"
            ],
            "image/png": "[encoded data removed]"
          },
          "metadata": {}
        }
      ]
    },
    {
      "cell_type": "markdown",
      "source": [
        "###**Naive Bayes**"
      ],
      "metadata": {
        "id": "88Cs9dpFw04s"
      }
    },
    {
      "cell_type": "code",
      "source": [
        "mulai = time.time()\n",
        "scores_nb = cross_val_score(nbc, X, y, cv=10) # perhatikan sekarang kita menggunakan seluruh data\n",
        "waktu = time.time() - mulai\n",
        "print(\"Accuracy Naive Bayes: %0.2f (+/- %0.2f), Waktu = %0.3f detik\" % (scores_nb.mean(), scores_nb.std() * 2, waktu))"
      ],
      "metadata": {
        "colab": {
          "base_uri": "https://localhost:8080/"
        },
        "id": "hsFi27lnw2Ds",
        "outputId": "8142dd84-b20c-4b44-dc87-d12c7ac0fcfe"
      },
      "execution_count": null,
      "outputs": [
        {
          "output_type": "stream",
          "name": "stdout",
          "text": [
            "Accuracy Naive Bayes: 0.68 (+/- 0.03), Waktu = 0.141 detik\n"
          ]
        }
      ]
    },
    {
      "cell_type": "code",
      "source": [
        "# Visualisasi untuk mengevaluasi & membandingkan model dengan lebih baik lagi\n",
        "df_ = pd.DataFrame({'kNN': scores_kNN, 'RegLog': scores_regLog, 'NaiveBys':scores_nb})\n",
        "p = sns.boxplot(data = df_)\n",
        "df_.min()"
      ],
      "metadata": {
        "colab": {
          "base_uri": "https://localhost:8080/",
          "height": 608
        },
        "id": "t9ud1Lo1w44p",
        "outputId": "27be4e35-93e9-426c-9b35-a1d883a58e09"
      },
      "execution_count": null,
      "outputs": [
        {
          "output_type": "execute_result",
          "data": {
            "text/plain": [
              "kNN         0.565611\n",
              "RegLog      0.645598\n",
              "NaiveBys    0.651584\n",
              "dtype: float64"
            ],
            "text/html": [
              "<div>\n",
              "<style scoped>\n",
              "    .dataframe tbody tr th:only-of-type {\n",
              "        vertical-align: middle;\n",
              "    }\n",
              "\n",
              "    .dataframe tbody tr th {\n",
              "        vertical-align: top;\n",
              "    }\n",
              "\n",
              "    .dataframe thead th {\n",
              "        text-align: right;\n",
              "    }\n",
              "</style>\n",
              "<table border=\"1\" class=\"dataframe\">\n",
              "  <thead>\n",
              "    <tr style=\"text-align: right;\">\n",
              "      <th></th>\n",
              "      <th>0</th>\n",
              "    </tr>\n",
              "  </thead>\n",
              "  <tbody>\n",
              "    <tr>\n",
              "      <th>kNN</th>\n",
              "      <td>0.565611</td>\n",
              "    </tr>\n",
              "    <tr>\n",
              "      <th>RegLog</th>\n",
              "      <td>0.645598</td>\n",
              "    </tr>\n",
              "    <tr>\n",
              "      <th>NaiveBys</th>\n",
              "      <td>0.651584</td>\n",
              "    </tr>\n",
              "  </tbody>\n",
              "</table>\n",
              "</div><br><label><b>dtype:</b> float64</label>"
            ]
          },
          "metadata": {},
          "execution_count": 41
        },
        {
          "output_type": "display_data",
          "data": {
            "text/plain": [
              "<Figure size 640x480 with 1 Axes>"
            ],
            "image/png": "[encoded data removed]"
          },
          "metadata": {}
        }
      ]
    },
    {
      "cell_type": "markdown",
      "source": [
        "###**Decision Tree**"
      ],
      "metadata": {
        "id": "KlQnjL8vxU_O"
      }
    },
    {
      "cell_type": "code",
      "source": [
        "mulai = time.time()\n",
        "scores_dt = cross_val_score(DT, X, y, cv=10) # perhatikan sekarang kita menggunakan seluruh data\n",
        "waktu = time.time() - mulai\n",
        "print(\"Accuracy Decision Tree: %0.2f (+/- %0.2f), Waktu = %0.3f detik\" % (scores_dt.mean(), scores_dt.std() * 2, waktu))"
      ],
      "metadata": {
        "colab": {
          "base_uri": "https://localhost:8080/"
        },
        "id": "zljnO8C4xRwg",
        "outputId": "102581dd-75f4-4580-d020-c40678209400"
      },
      "execution_count": null,
      "outputs": [
        {
          "output_type": "stream",
          "name": "stdout",
          "text": [
            "Accuracy Decision Tree: 0.68 (+/- 0.05), Waktu = 0.643 detik\n"
          ]
        }
      ]
    },
    {
      "cell_type": "code",
      "source": [
        "# Visualisasi untuk mengevaluasi & membandingkan model dengan lebih baik lagi\n",
        "df_ = pd.DataFrame({'kNN': scores_kNN, 'RegLog': scores_regLog, 'NaiveBys':scores_nb, \"DecTree\":scores_dt})\n",
        "p = sns.boxplot(data = df_)\n",
        "df_.min()"
      ],
      "metadata": {
        "colab": {
          "base_uri": "https://localhost:8080/",
          "height": 640
        },
        "id": "KXTAImSYxYfh",
        "outputId": "5528e118-f4f2-4cfe-c911-35036cc3125d"
      },
      "execution_count": null,
      "outputs": [
        {
          "output_type": "execute_result",
          "data": {
            "text/plain": [
              "kNN         0.565611\n",
              "RegLog      0.645598\n",
              "NaiveBys    0.651584\n",
              "DecTree     0.650113\n",
              "dtype: float64"
            ],
            "text/html": [
              "<div>\n",
              "<style scoped>\n",
              "    .dataframe tbody tr th:only-of-type {\n",
              "        vertical-align: middle;\n",
              "    }\n",
              "\n",
              "    .dataframe tbody tr th {\n",
              "        vertical-align: top;\n",
              "    }\n",
              "\n",
              "    .dataframe thead th {\n",
              "        text-align: right;\n",
              "    }\n",
              "</style>\n",
              "<table border=\"1\" class=\"dataframe\">\n",
              "  <thead>\n",
              "    <tr style=\"text-align: right;\">\n",
              "      <th></th>\n",
              "      <th>0</th>\n",
              "    </tr>\n",
              "  </thead>\n",
              "  <tbody>\n",
              "    <tr>\n",
              "      <th>kNN</th>\n",
              "      <td>0.565611</td>\n",
              "    </tr>\n",
              "    <tr>\n",
              "      <th>RegLog</th>\n",
              "      <td>0.645598</td>\n",
              "    </tr>\n",
              "    <tr>\n",
              "      <th>NaiveBys</th>\n",
              "      <td>0.651584</td>\n",
              "    </tr>\n",
              "    <tr>\n",
              "      <th>DecTree</th>\n",
              "      <td>0.650113</td>\n",
              "    </tr>\n",
              "  </tbody>\n",
              "</table>\n",
              "</div><br><label><b>dtype:</b> float64</label>"
            ]
          },
          "metadata": {},
          "execution_count": 43
        },
        {
          "output_type": "display_data",
          "data": {
            "text/plain": [
              "<Figure size 640x480 with 1 Axes>"
            ],
            "image/png": "[encoded data removed]"
          },
          "metadata": {}
        }
      ]
    },
    {
      "cell_type": "markdown",
      "source": [
        "###**Random Forest**"
      ],
      "metadata": {
        "id": "fVgDJeW3x8TA"
      }
    },
    {
      "cell_type": "code",
      "source": [
        "mulai = time.time()\n",
        "scores_rf = cross_val_score(rf, X, y, cv=10) # perhatikan sekarang kita menggunakan seluruh data\n",
        "waktu = time.time() - mulai\n",
        "print(\"Accuracy Random Forest: %0.2f (+/- %0.2f), Waktu = %0.3f detik\" % (scores_rf.mean(), scores_rf.std() * 2, waktu))"
      ],
      "metadata": {
        "colab": {
          "base_uri": "https://localhost:8080/"
        },
        "id": "1CZhdZPsx7DT",
        "outputId": "ac1f737d-d0fc-4cf0-e5f8-a605a6a19712"
      },
      "execution_count": null,
      "outputs": [
        {
          "output_type": "stream",
          "name": "stdout",
          "text": [
            "Accuracy Random Forest: 0.77 (+/- 0.04), Waktu = 10.046 detik\n"
          ]
        }
      ]
    },
    {
      "cell_type": "code",
      "source": [
        "# Visualisasi untuk mengevaluasi & membandingkan model dengan lebih baik lagi\n",
        "df_ = pd.DataFrame({'kNN': scores_kNN, 'RegLog': scores_regLog, 'NaiveBys':scores_nb, \"DecTree\":scores_dt, \"Forest\": scores_rf})\n",
        "p = sns.boxplot(data = df_)\n",
        "df_.min()"
      ],
      "metadata": {
        "colab": {
          "base_uri": "https://localhost:8080/",
          "height": 671
        },
        "id": "JiQyb-fKyAf0",
        "outputId": "b2ec16ab-f73a-4aa7-d694-a23cf02ecaff"
      },
      "execution_count": null,
      "outputs": [
        {
          "output_type": "execute_result",
          "data": {
            "text/plain": [
              "kNN         0.565611\n",
              "RegLog      0.645598\n",
              "NaiveBys    0.651584\n",
              "DecTree     0.650113\n",
              "Forest      0.748869\n",
              "dtype: float64"
            ],
            "text/html": [
              "<div>\n",
              "<style scoped>\n",
              "    .dataframe tbody tr th:only-of-type {\n",
              "        vertical-align: middle;\n",
              "    }\n",
              "\n",
              "    .dataframe tbody tr th {\n",
              "        vertical-align: top;\n",
              "    }\n",
              "\n",
              "    .dataframe thead th {\n",
              "        text-align: right;\n",
              "    }\n",
              "</style>\n",
              "<table border=\"1\" class=\"dataframe\">\n",
              "  <thead>\n",
              "    <tr style=\"text-align: right;\">\n",
              "      <th></th>\n",
              "      <th>0</th>\n",
              "    </tr>\n",
              "  </thead>\n",
              "  <tbody>\n",
              "    <tr>\n",
              "      <th>kNN</th>\n",
              "      <td>0.565611</td>\n",
              "    </tr>\n",
              "    <tr>\n",
              "      <th>RegLog</th>\n",
              "      <td>0.645598</td>\n",
              "    </tr>\n",
              "    <tr>\n",
              "      <th>NaiveBys</th>\n",
              "      <td>0.651584</td>\n",
              "    </tr>\n",
              "    <tr>\n",
              "      <th>DecTree</th>\n",
              "      <td>0.650113</td>\n",
              "    </tr>\n",
              "    <tr>\n",
              "      <th>Forest</th>\n",
              "      <td>0.748869</td>\n",
              "    </tr>\n",
              "  </tbody>\n",
              "</table>\n",
              "</div><br><label><b>dtype:</b> float64</label>"
            ]
          },
          "metadata": {},
          "execution_count": 45
        },
        {
          "output_type": "display_data",
          "data": {
            "text/plain": [
              "<Figure size 640x480 with 1 Axes>"
            ],
            "image/png": "[encoded data removed]"
          },
          "metadata": {}
        }
      ]
    },
    {
      "cell_type": "markdown",
      "source": [
        "###**SVM**"
      ],
      "metadata": {
        "id": "DrunUWMS7zj2"
      }
    },
    {
      "cell_type": "code",
      "source": [
        "dSVM = svm.SVC(C = 10**5, kernel = 'linear')\n",
        "mulai = time.time()\n",
        "scores_svm = cross_val_score(dSVM, X, y, cv=10) # perhatikan sekarang kita menggunakan seluruh data\n",
        "waktu = time.time() - mulai\n",
        "print(\"Accuracy SVM: %0.2f (+/- %0.2f), Waktu = %0.3f detik\" % (scores_svm.mean(), scores_svm.std() * 2, waktu))"
      ],
      "metadata": {
        "id": "EpbVsHgN7rNH",
        "colab": {
          "base_uri": "https://localhost:8080/"
        },
        "outputId": "3e2a33ee-b046-4521-d435-0cdc906c8023"
      },
      "execution_count": null,
      "outputs": [
        {
          "output_type": "stream",
          "name": "stdout",
          "text": [
            "Accuracy SVM: 0.76 (+/- 0.02), Waktu = 681.739 detik\n"
          ]
        }
      ]
    },
    {
      "cell_type": "code",
      "source": [
        "# Visualisasi untuk mengevaluasi & membandingkan model dengan lebih baik lagi\n",
        "df_['SVM'] = scores_svm\n",
        "p = sns.boxplot(data = df_)\n",
        "df_.min()"
      ],
      "metadata": {
        "id": "P70Q5R9h71L5",
        "colab": {
          "base_uri": "https://localhost:8080/",
          "height": 702
        },
        "outputId": "1fc13ef4-487a-47b1-ad29-f2170128d1fd"
      },
      "execution_count": null,
      "outputs": [
        {
          "output_type": "execute_result",
          "data": {
            "text/plain": [
              "kNN         0.565611\n",
              "RegLog      0.645598\n",
              "NaiveBys    0.651584\n",
              "DecTree     0.650113\n",
              "Forest      0.748869\n",
              "SVM         0.742081\n",
              "dtype: float64"
            ],
            "text/html": [
              "<div>\n",
              "<style scoped>\n",
              "    .dataframe tbody tr th:only-of-type {\n",
              "        vertical-align: middle;\n",
              "    }\n",
              "\n",
              "    .dataframe tbody tr th {\n",
              "        vertical-align: top;\n",
              "    }\n",
              "\n",
              "    .dataframe thead th {\n",
              "        text-align: right;\n",
              "    }\n",
              "</style>\n",
              "<table border=\"1\" class=\"dataframe\">\n",
              "  <thead>\n",
              "    <tr style=\"text-align: right;\">\n",
              "      <th></th>\n",
              "      <th>0</th>\n",
              "    </tr>\n",
              "  </thead>\n",
              "  <tbody>\n",
              "    <tr>\n",
              "      <th>kNN</th>\n",
              "      <td>0.565611</td>\n",
              "    </tr>\n",
              "    <tr>\n",
              "      <th>RegLog</th>\n",
              "      <td>0.645598</td>\n",
              "    </tr>\n",
              "    <tr>\n",
              "      <th>NaiveBys</th>\n",
              "      <td>0.651584</td>\n",
              "    </tr>\n",
              "    <tr>\n",
              "      <th>DecTree</th>\n",
              "      <td>0.650113</td>\n",
              "    </tr>\n",
              "    <tr>\n",
              "      <th>Forest</th>\n",
              "      <td>0.748869</td>\n",
              "    </tr>\n",
              "    <tr>\n",
              "      <th>SVM</th>\n",
              "      <td>0.742081</td>\n",
              "    </tr>\n",
              "  </tbody>\n",
              "</table>\n",
              "</div><br><label><b>dtype:</b> float64</label>"
            ]
          },
          "metadata": {},
          "execution_count": 47
        },
        {
          "output_type": "display_data",
          "data": {
            "text/plain": [
              "<Figure size 640x480 with 1 Axes>"
            ],
            "image/png": "[encoded data removed]"
          },
          "metadata": {}
        }
      ]
    },
    {
      "cell_type": "code",
      "source": [
        "clf = LogisticRegression(solver='liblinear')\n",
        "kNN = neighbors.KNeighborsClassifier()\n",
        "gnb = GaussianNB()\n",
        "dt = tree.DecisionTreeClassifier()\n",
        "rf = RandomForestClassifier()\n",
        "svm_ = svm.SVC()\n",
        "\n",
        "Models = [('Regresi Logistik', clf), ('k-NN',kNN), ('Naive Bayes',gnb), ('Decision Tree', dt), ('Random Forest', rf), ('SVM', svm_)]\n",
        "Scores = {}\n",
        "for model_name, model in tqdm(Models):\n",
        "    Scores[model_name] = cross_val_score(model, X, y, cv=10, scoring='accuracy')\n",
        "\n",
        "fig, ax = plt.subplots(1, 1, figsize=(10, 8))\n",
        "dt = pd.DataFrame.from_dict(Scores)\n",
        "ax = sns.boxplot(data=dt, ax=ax)\n",
        "for m, s in Scores.items():\n",
        "    print(m, list(s)[:4])"
      ],
      "metadata": {
        "colab": {
          "base_uri": "https://localhost:8080/",
          "height": 697
        },
        "id": "Hje6A80cHtVL",
        "outputId": "6074ece1-9996-469a-f60e-01698b0f7a2f"
      },
      "execution_count": null,
      "outputs": [
        {
          "output_type": "stream",
          "name": "stderr",
          "text": [
            "100%|██████████| 6/6 [00:26<00:00,  4.49s/it]\n"
          ]
        },
        {
          "output_type": "stream",
          "name": "stdout",
          "text": [
            "Regresi Logistik [0.7697516930022573, 0.7742663656884876, 0.7584650112866818, 0.7584650112866818]\n",
            "k-NN [0.6072234762979684, 0.6072234762979684, 0.6049661399548533, 0.5959367945823928]\n",
            "Naive Bayes [0.6817155756207675, 0.6952595936794582, 0.6681715575620768, 0.7065462753950339]\n",
            "Decision Tree [0.6591422121896162, 0.654627539503386, 0.6862302483069977, 0.6433408577878104]\n",
            "Random Forest [0.7516930022573364, 0.7855530474040632, 0.7855530474040632, 0.7765237020316027]\n",
            "SVM [0.4966139954853273, 0.49887133182844245, 0.49887133182844245, 0.49887133182844245]\n"
          ]
        },
        {
          "output_type": "display_data",
          "data": {
            "text/plain": [
              "<Figure size 800x640 with 1 Axes>"
            ],
            "image/png": "[encoded data removed]"
          },
          "metadata": {}
        }
      ]
    },
    {
      "cell_type": "markdown",
      "source": [
        "##<font color=\"FEEB99\">**Hyperparameter Tuning**\n",
        "\n",
        "Disusun oleh: Zavier Raiyan Dana"
      ],
      "metadata": {
        "id": "_fcuktQYazAO"
      }
    },
    {
      "cell_type": "code",
      "source": [
        "# Hyperparameter optimization pada model kNN menggunakan gridCV\n",
        "kCV = 10\n",
        "metric = 'accuracy'\n",
        "params = {}\n",
        "params['kneighborsclassifier__n_neighbors'] = [1, 3, 5, 10, 15, 20, 25, 30]\n",
        "params['kneighborsclassifier__weights'] = ('distance', 'uniform')\n",
        "\n",
        "pipe = make_pipeline(neighbors.KNeighborsClassifier())\n",
        "optKnn = GridSearchCV(pipe, params, cv=kCV, scoring=metric, verbose=1, n_jobs=-2) #\n",
        "optKnn.fit(x_train, y_train)\n",
        "print(optKnn.best_score_)\n",
        "print(optKnn.best_params_)"
      ],
      "metadata": {
        "colab": {
          "base_uri": "https://localhost:8080/"
        },
        "id": "zsrovOdD8ZzL",
        "outputId": "3abd81b7-72cb-4442-98db-c30f1387625b"
      },
      "execution_count": null,
      "outputs": [
        {
          "output_type": "stream",
          "name": "stdout",
          "text": [
            "Fitting 10 folds for each of 16 candidates, totalling 160 fits\n",
            "0.6196699796738209\n",
            "{'kneighborsclassifier__n_neighbors': 15, 'kneighborsclassifier__weights': 'distance'}\n"
          ]
        }
      ]
    },
    {
      "cell_type": "code",
      "source": [
        "pipeSVM = make_pipeline(svm.SVC())\n",
        "print(sorted(pipeSVM.get_params().keys()))"
      ],
      "metadata": {
        "colab": {
          "base_uri": "https://localhost:8080/"
        },
        "id": "Ite4ujFKBCbb",
        "outputId": "dea6500e-ba06-46cc-e709-e26a034c6cf3"
      },
      "execution_count": null,
      "outputs": [
        {
          "output_type": "stream",
          "name": "stdout",
          "text": [
            "['memory', 'steps', 'svc', 'svc__C', 'svc__break_ties', 'svc__cache_size', 'svc__class_weight', 'svc__coef0', 'svc__decision_function_shape', 'svc__degree', 'svc__gamma', 'svc__kernel', 'svc__max_iter', 'svc__probability', 'svc__random_state', 'svc__shrinking', 'svc__tol', 'svc__verbose', 'verbose']\n"
          ]
        }
      ]
    },
    {
      "cell_type": "code",
      "source": [
        "# Optimal parameter SVM dengan RandomizedSearch\n",
        "\n",
        "kCV = 10\n",
        "paramsSVM = {}\n",
        "paramsSVM['svc__C'] = [1, 10, 100, 1000] #sp.stats.uniform(scale=100)\n",
        "paramsSVM['svc__gamma'] = [0.1, 0.001, 0.0001, 1, 10]\n",
        "paramsSVM['svc__kernel'] = ['rbf', 'sigmoid', 'linear'] # , 'poly'\n",
        "optSvm = RandomizedSearchCV(pipeSVM, paramsSVM, cv=kCV, scoring=metric, verbose=2, n_jobs=-2) # refit=True, pre_dispatch='2*n_jobs' pre_dispatch min 2* n_jobs\n",
        "optSvm.fit(x_train, y_train)\n",
        "print(optSvm.best_score_)\n",
        "print(optSvm.best_params_)"
      ],
      "metadata": {
        "colab": {
          "base_uri": "https://localhost:8080/"
        },
        "id": "iWF5aMThBMi4",
        "outputId": "b5df6331-88ea-425a-d539-4e77ebc7657f"
      },
      "execution_count": null,
      "outputs": [
        {
          "output_type": "stream",
          "name": "stdout",
          "text": [
            "Fitting 10 folds for each of 10 candidates, totalling 100 fits\n",
            "[CV] END ......svc__C=100, svc__gamma=10, svc__kernel=linear; total time= 1.0min\n",
            "[CV] END ......svc__C=100, svc__gamma=10, svc__kernel=linear; total time=  50.7s\n",
            "[CV] END ......svc__C=100, svc__gamma=10, svc__kernel=linear; total time=  54.6s\n",
            "[CV] END ......svc__C=100, svc__gamma=10, svc__kernel=linear; total time=  37.2s\n",
            "[CV] END ......svc__C=100, svc__gamma=10, svc__kernel=linear; total time=  30.0s\n",
            "[CV] END ......svc__C=100, svc__gamma=10, svc__kernel=linear; total time= 1.1min\n",
            "[CV] END ......svc__C=100, svc__gamma=10, svc__kernel=linear; total time=  36.2s\n",
            "[CV] END ......svc__C=100, svc__gamma=10, svc__kernel=linear; total time= 1.1min\n",
            "[CV] END ......svc__C=100, svc__gamma=10, svc__kernel=linear; total time= 1.8min\n",
            "[CV] END ....svc__C=1000, svc__gamma=0.0001, svc__kernel=rbf; total time=   2.3s\n",
            "[CV] END ....svc__C=1000, svc__gamma=0.0001, svc__kernel=rbf; total time=   3.2s\n",
            "[CV] END ....svc__C=1000, svc__gamma=0.0001, svc__kernel=rbf; total time=   3.5s\n",
            "[CV] END ....svc__C=1000, svc__gamma=0.0001, svc__kernel=rbf; total time=   2.5s\n",
            "[CV] END ....svc__C=1000, svc__gamma=0.0001, svc__kernel=rbf; total time=   2.6s\n",
            "[CV] END ....svc__C=1000, svc__gamma=0.0001, svc__kernel=rbf; total time=   2.5s\n",
            "[CV] END ....svc__C=1000, svc__gamma=0.0001, svc__kernel=rbf; total time=   3.4s\n",
            "[CV] END ....svc__C=1000, svc__gamma=0.0001, svc__kernel=rbf; total time=   3.1s\n",
            "[CV] END ....svc__C=1000, svc__gamma=0.0001, svc__kernel=rbf; total time=   2.5s\n",
            "[CV] END ....svc__C=1000, svc__gamma=0.0001, svc__kernel=rbf; total time=   2.5s\n",
            "[CV] END ...........svc__C=10, svc__gamma=1, svc__kernel=rbf; total time=   1.1s\n",
            "[CV] END ...........svc__C=10, svc__gamma=1, svc__kernel=rbf; total time=   1.0s\n",
            "[CV] END ...........svc__C=10, svc__gamma=1, svc__kernel=rbf; total time=   1.0s\n",
            "[CV] END ...........svc__C=10, svc__gamma=1, svc__kernel=rbf; total time=   1.7s\n",
            "[CV] END ...........svc__C=10, svc__gamma=1, svc__kernel=rbf; total time=   2.0s\n",
            "[CV] END ...........svc__C=10, svc__gamma=1, svc__kernel=rbf; total time=   1.1s\n",
            "[CV] END ...........svc__C=10, svc__gamma=1, svc__kernel=rbf; total time=   1.0s\n",
            "[CV] END ...........svc__C=10, svc__gamma=1, svc__kernel=rbf; total time=   1.0s\n",
            "[CV] END ...........svc__C=10, svc__gamma=1, svc__kernel=rbf; total time=   1.0s\n",
            "[CV] END ...........svc__C=10, svc__gamma=1, svc__kernel=rbf; total time=   1.0s\n",
            "[CV] END ....svc__C=1, svc__gamma=0.001, svc__kernel=sigmoid; total time=   0.4s\n",
            "[CV] END ....svc__C=1, svc__gamma=0.001, svc__kernel=sigmoid; total time=   0.4s\n",
            "[CV] END ....svc__C=1, svc__gamma=0.001, svc__kernel=sigmoid; total time=   0.4s\n",
            "[CV] END ....svc__C=1, svc__gamma=0.001, svc__kernel=sigmoid; total time=   0.4s\n",
            "[CV] END ....svc__C=1, svc__gamma=0.001, svc__kernel=sigmoid; total time=   0.4s\n",
            "[CV] END ....svc__C=1, svc__gamma=0.001, svc__kernel=sigmoid; total time=   0.4s\n",
            "[CV] END ....svc__C=1, svc__gamma=0.001, svc__kernel=sigmoid; total time=   0.4s\n",
            "[CV] END ....svc__C=1, svc__gamma=0.001, svc__kernel=sigmoid; total time=   0.4s\n",
            "[CV] END ....svc__C=1, svc__gamma=0.001, svc__kernel=sigmoid; total time=   0.4s\n",
            "[CV] END ....svc__C=1, svc__gamma=0.001, svc__kernel=sigmoid; total time=   0.4s\n",
            "[CV] END ........svc__C=1, svc__gamma=0.001, svc__kernel=rbf; total time=   0.8s\n",
            "[CV] END ........svc__C=1, svc__gamma=0.001, svc__kernel=rbf; total time=   1.2s\n",
            "[CV] END ........svc__C=1, svc__gamma=0.001, svc__kernel=rbf; total time=   1.3s\n",
            "[CV] END ........svc__C=1, svc__gamma=0.001, svc__kernel=rbf; total time=   1.3s\n",
            "[CV] END ........svc__C=1, svc__gamma=0.001, svc__kernel=rbf; total time=   0.8s\n",
            "[CV] END ........svc__C=1, svc__gamma=0.001, svc__kernel=rbf; total time=   0.8s\n",
            "[CV] END ........svc__C=1, svc__gamma=0.001, svc__kernel=rbf; total time=   0.8s\n",
            "[CV] END ........svc__C=1, svc__gamma=0.001, svc__kernel=rbf; total time=   0.9s\n",
            "[CV] END ........svc__C=1, svc__gamma=0.001, svc__kernel=rbf; total time=   0.9s\n",
            "[CV] END ........svc__C=1, svc__gamma=0.001, svc__kernel=rbf; total time=   0.8s\n",
            "[CV] END ..svc__C=10, svc__gamma=0.0001, svc__kernel=sigmoid; total time=   0.4s\n",
            "[CV] END ..svc__C=10, svc__gamma=0.0001, svc__kernel=sigmoid; total time=   0.4s\n",
            "[CV] END ..svc__C=10, svc__gamma=0.0001, svc__kernel=sigmoid; total time=   0.4s\n",
            "[CV] END ..svc__C=10, svc__gamma=0.0001, svc__kernel=sigmoid; total time=   0.4s\n",
            "[CV] END ..svc__C=10, svc__gamma=0.0001, svc__kernel=sigmoid; total time=   0.4s\n",
            "[CV] END ..svc__C=10, svc__gamma=0.0001, svc__kernel=sigmoid; total time=   0.4s\n",
            "[CV] END ..svc__C=10, svc__gamma=0.0001, svc__kernel=sigmoid; total time=   0.4s\n",
            "[CV] END ..svc__C=10, svc__gamma=0.0001, svc__kernel=sigmoid; total time=   0.4s\n",
            "[CV] END ..svc__C=10, svc__gamma=0.0001, svc__kernel=sigmoid; total time=   0.4s\n",
            "[CV] END ..svc__C=10, svc__gamma=0.0001, svc__kernel=sigmoid; total time=   0.4s\n",
            "[CV] END ..........svc__C=10, svc__gamma=10, svc__kernel=rbf; total time=   1.2s\n",
            "[CV] END ..........svc__C=10, svc__gamma=10, svc__kernel=rbf; total time=   1.9s\n",
            "[CV] END ..........svc__C=10, svc__gamma=10, svc__kernel=rbf; total time=   1.7s\n",
            "[CV] END ..........svc__C=10, svc__gamma=10, svc__kernel=rbf; total time=   1.0s\n",
            "[CV] END ..........svc__C=10, svc__gamma=10, svc__kernel=rbf; total time=   1.0s\n",
            "[CV] END ..........svc__C=10, svc__gamma=10, svc__kernel=rbf; total time=   1.0s\n",
            "[CV] END ..........svc__C=10, svc__gamma=10, svc__kernel=rbf; total time=   1.0s\n",
            "[CV] END ..........svc__C=10, svc__gamma=10, svc__kernel=rbf; total time=   1.1s\n",
            "[CV] END ..........svc__C=10, svc__gamma=10, svc__kernel=rbf; total time=   1.8s\n",
            "[CV] END ..........svc__C=10, svc__gamma=10, svc__kernel=rbf; total time=   1.8s\n",
            "[CV] END ..svc__C=100, svc__gamma=0.001, svc__kernel=sigmoid; total time=   0.4s\n",
            "[CV] END ..svc__C=100, svc__gamma=0.001, svc__kernel=sigmoid; total time=   0.4s\n",
            "[CV] END ..svc__C=100, svc__gamma=0.001, svc__kernel=sigmoid; total time=   0.5s\n",
            "[CV] END ..svc__C=100, svc__gamma=0.001, svc__kernel=sigmoid; total time=   0.7s\n",
            "[CV] END ..svc__C=100, svc__gamma=0.001, svc__kernel=sigmoid; total time=   0.7s\n",
            "[CV] END ..svc__C=100, svc__gamma=0.001, svc__kernel=sigmoid; total time=   0.7s\n",
            "[CV] END ..svc__C=100, svc__gamma=0.001, svc__kernel=sigmoid; total time=   0.7s\n",
            "[CV] END ..svc__C=100, svc__gamma=0.001, svc__kernel=sigmoid; total time=   0.7s\n",
            "[CV] END ..svc__C=100, svc__gamma=0.001, svc__kernel=sigmoid; total time=   0.7s\n",
            "[CV] END ..svc__C=100, svc__gamma=0.001, svc__kernel=sigmoid; total time=   0.5s\n",
            "[CV] END .........svc__C=1, svc__gamma=1, svc__kernel=linear; total time=  28.9s\n",
            "[CV] END .........svc__C=1, svc__gamma=1, svc__kernel=linear; total time=  14.9s\n",
            "[CV] END .........svc__C=1, svc__gamma=1, svc__kernel=linear; total time=  25.7s\n",
            "[CV] END .........svc__C=1, svc__gamma=1, svc__kernel=linear; total time=  26.8s\n",
            "[CV] END .........svc__C=1, svc__gamma=1, svc__kernel=linear; total time=  18.6s\n",
            "[CV] END .........svc__C=1, svc__gamma=1, svc__kernel=linear; total time=  23.7s\n",
            "[CV] END .........svc__C=1, svc__gamma=1, svc__kernel=linear; total time=  19.5s\n",
            "[CV] END .........svc__C=1, svc__gamma=1, svc__kernel=linear; total time=  23.7s\n",
            "[CV] END .........svc__C=1, svc__gamma=1, svc__kernel=linear; total time=  25.4s\n",
            "[CV] END .........svc__C=1, svc__gamma=1, svc__kernel=linear; total time=  18.1s\n",
            "[CV] END .....svc__C=1000, svc__gamma=0.001, svc__kernel=rbf; total time=   1.2s\n",
            "[CV] END .....svc__C=1000, svc__gamma=0.001, svc__kernel=rbf; total time=   1.7s\n",
            "[CV] END .....svc__C=1000, svc__gamma=0.001, svc__kernel=rbf; total time=   2.0s\n",
            "[CV] END .....svc__C=1000, svc__gamma=0.001, svc__kernel=rbf; total time=   1.4s\n",
            "[CV] END .....svc__C=1000, svc__gamma=0.001, svc__kernel=rbf; total time=   1.2s\n",
            "[CV] END .....svc__C=1000, svc__gamma=0.001, svc__kernel=rbf; total time=   1.3s\n",
            "[CV] END .....svc__C=1000, svc__gamma=0.001, svc__kernel=rbf; total time=   1.2s\n",
            "[CV] END .....svc__C=1000, svc__gamma=0.001, svc__kernel=rbf; total time=   1.3s\n",
            "[CV] END .....svc__C=1000, svc__gamma=0.001, svc__kernel=rbf; total time=   1.2s\n",
            "[CV] END .....svc__C=1000, svc__gamma=0.001, svc__kernel=rbf; total time=   1.2s\n",
            "0.7572790128198972\n",
            "{'svc__kernel': 'linear', 'svc__gamma': 10, 'svc__C': 100}\n"
          ]
        }
      ]
    },
    {
      "cell_type": "code",
      "source": [
        "kCV = 10\n",
        "# Menggunakan parameter optimal\n",
        "kNN = neighbors.KNeighborsClassifier(n_neighbors= 20, weights= 'uniform')\n",
        "svm_ = svm.SVC(kernel= 'linear', gamma= 10, C= 10)\n",
        "\n",
        "# Melakukan Cross Validasi\n",
        "models = ['kNN', 'SVM']\n",
        "knn_score = cross_val_score(kNN, x_test, y_test, cv=kCV, scoring='accuracy', n_jobs=-2, verbose=1)\n",
        "svm_score = cross_val_score(svm_, x_test, y_test, cv=kCV, scoring='accuracy', n_jobs=-2, verbose=1)\n",
        "scores = [knn_score, svm_score]\n",
        "\n",
        "data = {m:s for m,s in zip(models, scores)}\n",
        "for name in data.keys():\n",
        "    print(\"Accuracy %s: %0.2f (+/- %0.2f)\" % (name, data[name].mean(), data[name].std() * 2))\n",
        "\n",
        "fig, ax = plt.subplots(1, 1, figsize=(8, 6))\n",
        "p = sns.boxplot(data=pd.DataFrame(data), ax=ax)"
      ],
      "metadata": {
        "colab": {
          "base_uri": "https://localhost:8080/"
        },
        "id": "85Rvl_GmFzyS",
        "outputId": "44ce38cd-3b47-4e36-bcef-398d429ce165"
      },
      "execution_count": null,
      "outputs": [
        {
          "output_type": "stream",
          "name": "stdout",
          "text": [
            "Accuracy kNN: 0.53 (+/- 0.07)\n",
            "Accuracy SVM: 0.71 (+/- 0.12)\n"
          ]
        },
        {
          "output_type": "display_data",
          "data": {
            "text/plain": [
              "<Figure size 640x480 with 1 Axes>"
            ],
            "image/png": "[encoded data removed]"
          },
          "metadata": {}
        }
      ]
    },
    {
      "cell_type": "markdown",
      "source": [
        "# **Kesimpulan**\n",
        "\n",
        "1. Performa Model:\n",
        "  - Model SVM dengan parameter yang dioptimalkan menunjukkan performa yang lebih baik dibandingkan model KNN, dengan akurasi rata-rata 71% dibandingkan 53%.\n",
        "  - Variabilitas (standar deviasi) pada SVM lebih besar dibandingkan KNN, tetapi tetap menunjukkan performa rata-rata yang lebih unggul.\n",
        "\n",
        "2. Hasil Hyperparameter Tuning:\n",
        "  - Hyperparameter tuning berhasil menemukan kombinasi parameter optimal untuk masing-masing model.\n",
        "  - Kombinasi optimal ini berkontribusi pada peningkatan performa kedua model pada data validasi.\n",
        "\n",
        "3. Rekomendasi:\n",
        "  - Jika akurasi menjadi prioritas, model SVM lebih disarankan untuk digunakan.\n",
        "  - Model KNN memiliki akurasi lebih rendah, mungkin karena dataset memerlukan model yang lebih kompleks untuk menangkap pola data.\n"
      ],
      "metadata": {
        "id": "senzl6gkdxGC"
      }
    },
    {
      "cell_type": "markdown",
      "source": [
        "##<font color=\"FEEB99\">**Ensemble Model**\n",
        "\n",
        "Disusun oleh : Rachelle Melody d'Lyra Soentara (2206051456)"
      ],
      "metadata": {
        "id": "QcCuJ6Q3Bw5N"
      }
    },
    {
      "cell_type": "markdown",
      "metadata": {
        "id": "ZplNZqFT7l90"
      },
      "source": [
        "### Voting (Bagging)"
      ]
    },
    {
      "cell_type": "code",
      "execution_count": null,
      "metadata": {
        "colab": {
          "base_uri": "https://localhost:8080/"
        },
        "id": "IRI326v77l91",
        "outputId": "7b049fb3-dc78-4348-b236-bc98c7b583f4"
      },
      "outputs": [
        {
          "output_type": "stream",
          "name": "stdout",
          "text": [
            "Akurasi k-NN 0.5943502824858757\n",
            "Akurasi Decision Tree 0.6757062146892655\n",
            "Akurasi Votting 0.6135593220338983\n"
          ]
        }
      ],
      "source": [
        "# Contoh Voting (Bagging) di Python\n",
        "\n",
        "kNN = neighbors.KNeighborsClassifier(3)\n",
        "kNN.fit(x_train, y_train)\n",
        "Y_kNN = kNN.score(x_test, y_test)\n",
        "\n",
        "DT = tree.DecisionTreeClassifier(random_state=1)\n",
        "DT.fit(x_train, y_train)\n",
        "Y_DT = DT.score(x_test, y_test)\n",
        "\n",
        "model = VotingClassifier(estimators=[('k-NN', kNN), ('Decision Tree', DT)], voting='hard')\n",
        "model.fit(x_train,y_train)\n",
        "Y_Vot = model.score(x_test,y_test)\n",
        "\n",
        "print('Akurasi k-NN', Y_kNN)\n",
        "print('Akurasi Decision Tree', Y_DT)\n",
        "print('Akurasi Votting', Y_Vot)"
      ]
    },
    {
      "cell_type": "markdown",
      "source": [
        "- k-NN akurasinya = 59.4%, artinya model dengan metode k-NN sendiri memiliki performa sedang\n",
        "- Decision Tree akurasinya = 67.6% artinya performa dari DT lebih baik dari k-NN dalam data ini\n",
        "- Dengan ensemble kedua metode, akurasi = 61.36%, berada lebih tinggi dari akurasi k-NN tetapi lebih rendah dari akurasi\n",
        "\n",
        "**Kesimpulannya** : majority voting tidak selalu meningkatkan eprforma, dalam kasus ini, model Decision Tree lebih baik dari k-NN dan model ensemble voting."
      ],
      "metadata": {
        "id": "1pkbTMQ8PC67"
      }
    },
    {
      "cell_type": "markdown",
      "source": [
        "### Averaging"
      ],
      "metadata": {
        "id": "2ScmzfkI-xgH"
      }
    },
    {
      "cell_type": "code",
      "execution_count": null,
      "metadata": {
        "colab": {
          "base_uri": "https://localhost:8080/"
        },
        "id": "T5ZQHtC97l92",
        "outputId": "68f33412-0f81-4257-c244-f6c104d71bb8"
      },
      "outputs": [
        {
          "output_type": "stream",
          "name": "stdout",
          "text": [
            "[[0.08068236 0.03264432 0.88667331]\n",
            " [0.19163864 0.09594206 0.7124193 ]\n",
            " [0.19153297 0.24317005 0.56529698]\n",
            " [0.07934291 0.02219701 0.89846008]\n",
            " [0.28565759 0.13722124 0.57712117]]\n",
            "[2, 2, 2, 2, 2]\n",
            "Akurasi Averaging 0.7141242937853107\n"
          ]
        }
      ],
      "source": [
        "# Averaging juga bisa digunakan di Klasifikasi (ndak hanya Regresi),\n",
        "# tapi kita pakai probabilitas dari setiap kategori\n",
        "T = tree.DecisionTreeClassifier()\n",
        "K = neighbors.KNeighborsClassifier()\n",
        "R = LogisticRegression()\n",
        "\n",
        "T.fit(x_train,y_train)\n",
        "K.fit(x_train,y_train)\n",
        "R.fit(x_train,y_train)\n",
        "\n",
        "y_T=T.predict_proba(x_test)\n",
        "y_K=K.predict_proba(x_test)\n",
        "y_R=R.predict_proba(x_test)\n",
        "\n",
        "Ave = (y_T+y_K+y_R)/3\n",
        "print(Ave[:5]) # Print just first 5\n",
        "prediction = [v.index(max(v)) for v in Ave.tolist()]\n",
        "print(prediction[:5]) # Print just first 5\n",
        "print('Akurasi Averaging', accuracy_score(y_test, prediction))"
      ]
    },
    {
      "cell_type": "markdown",
      "source": [
        "- array output pertama adalah predicted probability untuk 5 sampel test pertama dari tiap kelas\n",
        "- output selanjutnya : ([2, 2, 2, 2, 1]) menunjukkan predicted classes untuk 5 sample pertama, mengindikasikan kelas dengan average probability tertinggi yaitu 2 : graduate, 1 : enrolled.\n",
        "- Akurasi dari metode averaging ini = 70.96%, dimana lebih baik dari performa k-NN dan Voting Classifier\n",
        "\n",
        "**Kesimpulannya** : probability averaging dapat meningkatkan klasifikasi performa ketika base model berkontribusi sebagai prediksi pelengkap"
      ],
      "metadata": {
        "id": "eLZD4awXQG46"
      }
    },
    {
      "cell_type": "markdown",
      "source": [
        "### Adaboost"
      ],
      "metadata": {
        "id": "n1NUmh5J-0fY"
      }
    },
    {
      "cell_type": "code",
      "execution_count": null,
      "metadata": {
        "colab": {
          "base_uri": "https://localhost:8080/"
        },
        "id": "DvCbscM37l92",
        "outputId": "4262793b-8193-4225-e231-62660872fb78"
      },
      "outputs": [
        {
          "output_type": "stream",
          "name": "stdout",
          "text": [
            "0.7601779312176337\n"
          ]
        }
      ],
      "source": [
        "# AdaBoost\n",
        "num_trees = 100\n",
        "kfold = model_selection.KFold(n_splits=10)\n",
        "model = AdaBoostClassifier(n_estimators=num_trees, random_state=33)\n",
        "results = model_selection.cross_val_score(model, X, y, cv=kfold)\n",
        "print(results.mean())"
      ]
    },
    {
      "cell_type": "markdown",
      "source": [
        "**Kesimpulan** : mean akurasi = 76% artinya merupakan average accuracy dari 10 train-test split berbeda. Metode Adaboost meningkatkan performa signifikan dibandingkan metode sebelumnya (k-NN, Voting Classifier, dan Averaging). Hal ini karena kemampuannya untuk meningkatkan performa dari weak classifiers."
      ],
      "metadata": {
        "id": "igQVePp8RFxE"
      }
    },
    {
      "cell_type": "markdown",
      "source": [
        "### Kesimpulan Ketiga Metode\n",
        "\n",
        "- Voting: menyatukan beberapa model dengan hard voting tetapi tidak selalu menyebabkan performa meningkat jika salah satu model mendominasi.\n",
        "- Averaging: menggunakan probability untuk membuat predictions, menyebabkan performance lebih baik (71.8% accuracy).\n",
        "- AdaBoost: boosting ensemble yang memiliki performa tertinggi (76.0%) dengan berfokus pada misclassified samples ketika training."
      ],
      "metadata": {
        "id": "_pc3LEfiRtOr"
      }
    },
    {
      "cell_type": "markdown",
      "metadata": {
        "id": "tCKYZJNp7l93"
      },
      "source": [
        "### Imbalance Learning"
      ]
    },
    {
      "cell_type": "code",
      "execution_count": null,
      "metadata": {
        "colab": {
          "base_uri": "https://localhost:8080/"
        },
        "id": "mJfPgtD37l93",
        "outputId": "09d02489-c2fd-463c-bc69-e363768bbd9a"
      },
      "outputs": [
        {
          "output_type": "stream",
          "name": "stdout",
          "text": [
            "Target\n",
            "2    2209\n",
            "0    1421\n",
            "1     794\n",
            "Name: count, dtype: int64\n"
          ]
        }
      ],
      "source": [
        "# Count the occurrences of each value in the 'Target' column\n",
        "counts = y['Target'].value_counts()\n",
        "\n",
        "# Print the counts\n",
        "print(counts)"
      ]
    },
    {
      "cell_type": "markdown",
      "source": [
        "Dapat dilihat imbalance data berada pada Target : 1 (Enrolled), dimana data ini underrepresented relatif terhadap kelas lain yaitu 0 : Dropout dan 2 : Graduate."
      ],
      "metadata": {
        "id": "QmrYZvi7VC2M"
      }
    },
    {
      "cell_type": "markdown",
      "source": [
        "#### Standard SVM tanpa Class Weights"
      ],
      "metadata": {
        "id": "cUdWrh5UWtP2"
      }
    },
    {
      "cell_type": "code",
      "execution_count": null,
      "metadata": {
        "colab": {
          "base_uri": "https://localhost:8080/"
        },
        "id": "Lj8sCE9h7l94",
        "outputId": "b607dd16-62c9-4987-ea11-48853e5bf4a3"
      },
      "outputs": [
        {
          "output_type": "stream",
          "name": "stdout",
          "text": [
            "[[214  23  42]\n",
            " [ 41  51  72]\n",
            " [ 18  23 401]]\n",
            "              precision    recall  f1-score   support\n",
            "\n",
            "           0       0.78      0.77      0.78       279\n",
            "           1       0.53      0.31      0.39       164\n",
            "           2       0.78      0.91      0.84       442\n",
            "\n",
            "    accuracy                           0.75       885\n",
            "   macro avg       0.70      0.66      0.67       885\n",
            "weighted avg       0.73      0.75      0.74       885\n",
            "\n"
          ]
        }
      ],
      "source": [
        "# fit the model and get the separating hyperplane using weighted classes\n",
        "\n",
        "svm_ = svm.SVC(kernel='linear')\n",
        "svm_.fit(x_train, y_train)\n",
        "y_SVMib = svm_.predict(x_test)\n",
        "\n",
        "print(confusion_matrix(y_test, y_SVMib))\n",
        "print(classification_report(y_test, y_SVMib))"
      ]
    },
    {
      "cell_type": "markdown",
      "source": [
        "- Dengan standard linear SVM tanpa class weight pada imbalance data dilakukan.\n",
        "- Metode ini sering membuat klasifikasi condong ke kelas mayoritas\n",
        "\n",
        "**Interpretasi Output** :    \n",
        "Pada kelas 0 yaitu Dropout (mayoritas) : 78% predicted class 0 benar, 77% dari actual class 0 benar diidentifikasi, prediksi baik karena kedominannya.\n",
        "\n",
        "Pada kelas 2 yaitu Graduate (mayoritas) : 78% predicted class 2 benar, 91% dari actual class 2 benar diidentifikasi, prediksi baik karena kedominannya.\n",
        "\n",
        "Pada kelas 1 yaitu Enrolled (minoritas) : 53% predicted class 1 benar, hanya 31% dari actual class 1 diidentifikasi benar, prediksi kurang baik karena imbalanced."
      ],
      "metadata": {
        "id": "84emy3IDVOKD"
      }
    },
    {
      "cell_type": "markdown",
      "source": [
        "#### Weighted SVM"
      ],
      "metadata": {
        "id": "cxzBU0rHWxxJ"
      }
    },
    {
      "cell_type": "code",
      "execution_count": null,
      "metadata": {
        "colab": {
          "base_uri": "https://localhost:8080/"
        },
        "id": "lLaSkzzn7l94",
        "outputId": "745009b7-895a-4c49-c22a-103fe213d4f8"
      },
      "outputs": [
        {
          "output_type": "stream",
          "name": "stdout",
          "text": [
            "[[158  94  27]\n",
            " [ 10 121  33]\n",
            " [  8  94 340]]\n",
            "              precision    recall  f1-score   support\n",
            "\n",
            "           0       0.90      0.57      0.69       279\n",
            "           1       0.39      0.74      0.51       164\n",
            "           2       0.85      0.77      0.81       442\n",
            "\n",
            "    accuracy                           0.70       885\n",
            "   macro avg       0.71      0.69      0.67       885\n",
            "weighted avg       0.78      0.70      0.72       885\n",
            "\n"
          ]
        }
      ],
      "source": [
        "# fit the model and get the separating hyperplane using weighted classes\n",
        "# x_train, x_test, y_train, y_test\n",
        "\n",
        "svm_balanced = svm.SVC(kernel='linear', class_weight={1: 3}) #WEIGHTED SVM\n",
        "svm_balanced.fit(x_train, y_train)\n",
        "y_SVMb = svm_balanced.predict(x_test)\n",
        "\n",
        "print(confusion_matrix(y_test, y_SVMb))\n",
        "print(classification_report(y_test, y_SVMb))"
      ]
    },
    {
      "cell_type": "markdown",
      "source": [
        "- Dilakukan Weighted SVM dengan mengassign higher penaly terhadap misclassifications dalam kelas 1 dimana (class_weight={1: 3}) untuk balancing efek dari kelas underrepresented.\n",
        "- The F1-score adalah metrik untuk evaluate performa model klasifikasi, terutama untuk data imbalanced. Menggabungkan precision dan recall untuk menghasilkan balanced measure, walaupun distribusi kelasnya tidak sama.\n",
        "\n",
        "\n",
        "\n",
        "**Interpretasi Output** :     \n",
        "Pada kelas 0 : presisi 0.9 (tinggi), recall 0.57 maka beberapa kelas 0 salah diprediksi sebagai kelas lain, F1 score turun ke 0.69 dibanding unweighted SVM\n",
        "\n",
        "Pada kelas 1 : presisi 0.39 (turun sedikit), artinya lebih banyak sample salah diprediksi. Recall 0.74 meningkat dibanding unweighted, mengindikasi model ini lebih baik dalam mengidentifikasi sampel kelas 1. F1 score juga meningkat ke 0.51.\n",
        "\n",
        "Pada kelas 2 : presisi 0.85 (baik), recall 0.77 (menurun), performa di kelas 2 tinggi tetapi berkurang dibandingkan unweighted SVM.\n",
        "\n",
        "\n",
        "**Secara Keseluruhan** :      \n",
        "Akurasi keseluruhan turun ke 70%, mencerminkan trade off untuk meningkatkan performa kelas minoritas."
      ],
      "metadata": {
        "id": "WJv7viGcXBHQ"
      }
    },
    {
      "cell_type": "markdown",
      "metadata": {
        "id": "FFxjJfcq7l95"
      },
      "source": [
        "#### Weighted Decision Tree</font></center>"
      ]
    },
    {
      "cell_type": "code",
      "execution_count": null,
      "metadata": {
        "colab": {
          "base_uri": "https://localhost:8080/"
        },
        "id": "8iAy31md7l95",
        "outputId": "d02bc109-0222-41b7-c337-e313a99ce0c3"
      },
      "outputs": [
        {
          "output_type": "stream",
          "name": "stdout",
          "text": [
            "Akurasi  (Decision tree Biasa) =  0.6790960451977401\n",
            "              precision    recall  f1-score   support\n",
            "\n",
            "           0       0.71      0.68      0.69       279\n",
            "           1       0.38      0.36      0.37       164\n",
            "           2       0.76      0.80      0.78       442\n",
            "\n",
            "    accuracy                           0.68       885\n",
            "   macro avg       0.62      0.61      0.61       885\n",
            "weighted avg       0.67      0.68      0.68       885\n",
            "\n",
            "Akurasi  (Weighted Decision tree) =  0.6768361581920904\n",
            "              precision    recall  f1-score   support\n",
            "\n",
            "           0       0.71      0.70      0.71       279\n",
            "           1       0.38      0.37      0.37       164\n",
            "           2       0.76      0.78      0.77       442\n",
            "\n",
            "    accuracy                           0.68       885\n",
            "   macro avg       0.62      0.62      0.62       885\n",
            "weighted avg       0.68      0.68      0.68       885\n",
            "\n"
          ]
        }
      ],
      "source": [
        "T = tree.DecisionTreeClassifier(random_state = 33)\n",
        "T.fit(x_train,y_train)\n",
        "y_DT = T.predict(x_test)\n",
        "print('Akurasi  (Decision tree Biasa) = ', accuracy_score(y_test, y_DT))\n",
        "print(classification_report(y_test, y_DT))\n",
        "\n",
        "T = tree.DecisionTreeClassifier(class_weight = 'balanced', random_state = 33)\n",
        "T.fit(x_train, y_train)\n",
        "y_DT = T.predict(x_test)\n",
        "print('Akurasi  (Weighted Decision tree) = ', accuracy_score(y_test, y_DT))\n",
        "print(classification_report(y_test, y_DT))"
      ]
    },
    {
      "cell_type": "markdown",
      "source": [
        "- Dilakukan perbandingan performa ketika model Decision Tree biasa dan juga ketika model Decision Tree Weighted.\n",
        "\n",
        "**Interpretasi Output** :    \n",
        "- Performa dari kedua metode biasa dan weighted DT memiliki akurasi yang mirip (sekitar 68%). hasil klasifikasinya mungkin akan menampilkan perbedaan dalam sebaik mana masing-masing classifier mengatasi kelas imbalanced.\n",
        "- Weighted DT : bertujuan meningkatkan performa pada kelas yang underrepresented dalam data training.\n",
        "- Namun, dapat dilihat pada kelas 0 dan 2, kedua model performanya mirip (memiliki precision, recall, dan F1 scores yang tinggi). Kedua model pada kelas 0 juga mirip, dimana precision, recall, dan F1-scores tidak terlalu tinggi.\n",
        "- Dalam kasus ini, maka weighted decision tree tidak terlihat meningkatkan performa klasifikasi kelas 1 secara signifikan. Penyebabnya mungkin antara lain :    \n",
        "  - ketidak seimbangan diantara kelas-kelasnya tidak terlalu extreme untuk menjamin penggunaan dari metode weighted.\n",
        "  - model terlalu kompleks atau terlalu simple untuk kasus ini."
      ],
      "metadata": {
        "id": "UASYq9IMaoTB"
      }
    },
    {
      "cell_type": "markdown",
      "source": [
        "#### Kesimpulan Insight"
      ],
      "metadata": {
        "id": "oYUZKvDohXDg"
      }
    },
    {
      "cell_type": "markdown",
      "source": [
        "- **Ketidak seimbangan data** : mahasiswa berstatus Enrolled (1) paling rentan salah diprediksi, artinya kelompok ini membutuhkan perhatian lebih karena :    \n",
        "  - berada dalam kondisi transisi akademik\n",
        "  - sumber data dan informasi mahasiswa yang sedang dalam pendidikan lebih sedikit dari graduate dan dropout\n",
        "\n",
        "- **Prediksi kelas mayoritas** : mayoritas merupakan Graduate, dimana model juga lebih akurat dalam memprediksi mahasiswa yang lulus (2), tetapi cenderung mengabaikan mahasiswa Enrolled atau Dropout. Artinya, model tanpa weighted / penyesuaian untuk imbalanced data tidak cukup sensitif dalam mengidentifikasi mahasiswa yang beresiko gagal.\n",
        "\n",
        "- **Kelebihan/Kekurangan metode** :     \n",
        "  - Averaging : akurasi cukup tinggi, tetapi lebih memprioritaskan kelas berprobabilitas tertinggi (Graduate) sehingga tidak cocok sebagai metode kelompok minoritas (Dropout dan Enrolled).\n",
        "  - Weighted SVM : lebih adil dalam menangani data imbalanced, dapat dilihat precision dan recall Graduate dan Enrolled secara general meningkat, maka dapat dijadikan kandidat model utama.\n",
        "  - Decision tree : meski sudah diberi weight, kurang meningkatkan akurasi dan keseimbangan secara signifikan terhadap kelas minoritas."
      ],
      "metadata": {
        "id": "NasUCZ_8haDZ"
      }
    },
    {
      "cell_type": "markdown",
      "source": [
        "### Saran Tindak Lanjut"
      ],
      "metadata": {
        "id": "WTAn_TeeizV2"
      }
    },
    {
      "cell_type": "markdown",
      "source": [
        "1. **Identifikasi Berdasarkan Data Akademik**\n",
        "\n",
        "Fokus pada mahasiswa Enrolled (1) karena kelompok ini rentan mengalami kesalahan prediksi. Tambahkan parameter prediksi, misal : nilai ujian, kehadiran, keterlibatan akademik untuk memberikan konteks lebih.\n",
        "\n",
        "2. **Strategi untuk Kategori Enrolled**\n",
        "Kelompok ini butuh pengawasan rutin untuk memastikan mereka tetap berada di jalur untuk lulus.\n",
        "Bisa dilakukan :\n",
        "  - Buat program mentoring dengan mahasiswa senior.\n",
        "  - Pantau performa per semester.\n",
        "  - Gunakan Weighted SVM sebagai pendekatan utama untuk menangani ketidakseimbangan data.\n",
        "\n",
        "3. Gunakan sistem dashboard analitik untuk memantau mahasiswa secara real-time berdasarkan kategori risiko. Bisa didesign untuk ada notifikasi otomatis kepada pembimbing akademik jika mahasiswa menunjukkan pola risiko, misalnya penurunan nilai ekstrim atau absensi tinggi."
      ],
      "metadata": {
        "id": "yvZinQtli16k"
      }
    }
  ],
  "metadata": {
    "celltoolbar": "Slideshow",
    "kernelspec": {
      "display_name": "Python 3 (ipykernel)",
      "language": "python",
      "name": "python3"
    },
    "language_info": {
      "codemirror_mode": {
        "name": "ipython",
        "version": 3
      },
      "file_extension": ".py",
      "mimetype": "text/x-python",
      "name": "python",
      "nbconvert_exporter": "python",
      "pygments_lexer": "ipython3",
      "version": "3.7.13"
    },
    "latex_envs": {
      "LaTeX_envs_menu_present": true,
      "autoclose": false,
      "autocomplete": true,
      "bibliofile": "biblio.bib",
      "cite_by": "apalike",
      "current_citInitial": 1,
      "eqLabelWithNumbers": true,
      "eqNumInitial": 1,
      "hotkeys": {
        "equation": "Ctrl-E",
        "itemize": "Ctrl-I"
      },
      "labels_anchors": false,
      "latex_user_defs": false,
      "report_style_numbering": false,
      "user_envs_cfg": false
    },
    "colab": {
      "provenance": [],
      "collapsed_sections": [
        "41_PpOlcaliu",
        "ZplNZqFT7l90",
        "2ScmzfkI-xgH",
        "n1NUmh5J-0fY"
      ]
    }
  },
  "nbformat": 4,
  "nbformat_minor": 0
}